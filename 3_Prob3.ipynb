{
 "cells": [
  {
   "cell_type": "code",
   "execution_count": 1,
   "id": "9bb20267",
   "metadata": {},
   "outputs": [],
   "source": [
    "import torch\n",
    "\n",
    "# Set the default GPU device to 1\n",
    "device = torch.device(\"cuda:1\" if torch.cuda.is_available() else \"cpu\")\n"
   ]
  },
  {
   "cell_type": "code",
   "execution_count": 26,
   "id": "4c4a0ccf",
   "metadata": {},
   "outputs": [],
   "source": [
    "import os\n",
    "import librosa\n",
    "import numpy as np\n",
    "import pandas as pd\n",
    "from tqdm import tqdm\n",
    "from torch.utils.data import Dataset, DataLoader\n",
    "import torch\n",
    "import torch.nn as nn\n",
    "import torch.nn.functional as F\n",
    "import pandas as pd\n",
    "from pathlib import Path\n",
    "import matplotlib.pyplot as plt\n",
    "import pickle\n",
    "# import torchaudio\n",
    "import torch.optim as optim"
   ]
  },
  {
   "cell_type": "code",
   "execution_count": 27,
   "id": "a215f6d0",
   "metadata": {},
   "outputs": [],
   "source": [
    "\n",
    "\n",
    "# Path to the dataset root\n",
    "DATASET_ROOT = Path(\"ESC-50-master\")\n",
    "\n",
    "# Path to metadata file\n",
    "CSV_PATH = DATASET_ROOT / \"meta\" / \"esc50.csv\"\n",
    "\n",
    "# Load the CSV\n",
    "df = pd.read_csv(CSV_PATH)\n",
    "\n",
    "# Filter to include only ESC-10 subset\n",
    "esc10_df = df[df['esc10'] == True]\n",
    "\n",
    "# Split based on folds\n",
    "train_df = esc10_df[esc10_df['fold'].isin([1, 2, 3])]\n",
    "val_df = esc10_df[esc10_df['fold'] == 4]\n",
    "test_df = esc10_df[esc10_df['fold'] == 5]\n",
    "\n",
    "# Helper function to get file paths and labels\n",
    "def get_paths_and_labels(df_subset):\n",
    "    file_paths = [DATASET_ROOT / \"audio\" / file for file in df_subset['filename']]\n",
    "    labels = df_subset['category'].tolist()\n",
    "    return file_paths, labels\n",
    "\n",
    "# Get paths and labels\n",
    "train_files, train_labels = get_paths_and_labels(train_df)\n",
    "val_files, val_labels = get_paths_and_labels(val_df)\n",
    "test_files, test_labels = get_paths_and_labels(test_df)\n"
   ]
  },
  {
   "cell_type": "code",
   "execution_count": 28,
   "id": "539324df",
   "metadata": {},
   "outputs": [
    {
     "data": {
      "text/plain": [
       "240"
      ]
     },
     "execution_count": 28,
     "metadata": {},
     "output_type": "execute_result"
    }
   ],
   "source": [
    "len(train_files)"
   ]
  },
  {
   "cell_type": "code",
   "execution_count": 29,
   "id": "bab1fe74",
   "metadata": {},
   "outputs": [],
   "source": [
    "\n",
    "\n",
    "def precompute_melspectrograms(file_paths, labels, save_dir, label_to_idx, n_mels=128, max_frames=500):\n",
    "    os.makedirs(save_dir, exist_ok=True)\n",
    "    data = []\n",
    "\n",
    "    for i, path in tqdm(enumerate(file_paths), total=len(file_paths)):\n",
    "        y, sr = librosa.load(path, sr=None)\n",
    "        \n",
    "        mel = librosa.feature.melspectrogram(y=y, sr=sr, n_mels=n_mels, hop_length=220)\n",
    "        mel_db = librosa.power_to_db(mel, ref=np.max)\n",
    "\n",
    "        # Crop or pad\n",
    "        if mel_db.shape[1] < max_frames:\n",
    "            pad_width = max_frames - mel_db.shape[1]\n",
    "            mel_db = np.pad(mel_db, ((0, 0), (0, pad_width)), mode='constant')\n",
    "        else:\n",
    "            mel_db = mel_db[:, :max_frames]\n",
    "\n",
    "        # Normalize\n",
    "        mel_db = (mel_db - np.mean(mel_db)) / (np.std(mel_db) + 1e-6)\n",
    "\n",
    "        # Save as .npy\n",
    "        filename = f\"{i:05d}.npy\"\n",
    "        np.save(os.path.join(save_dir, filename), mel_db)\n",
    "\n",
    "        # Record label\n",
    "        data.append((filename, label_to_idx[labels[i]]))\n",
    "\n",
    "    # Save metadata (mapping from filename to label)\n",
    "    with open(os.path.join(save_dir, 'metadata.pkl'), 'wb') as f:\n",
    "        pickle.dump(data, f)\n"
   ]
  },
  {
   "cell_type": "code",
   "execution_count": 30,
   "id": "6fdacf36",
   "metadata": {},
   "outputs": [
    {
     "name": "stderr",
     "output_type": "stream",
     "text": [
      "100%|██████████| 240/240 [00:20<00:00, 11.73it/s]\n",
      "100%|██████████| 80/80 [00:06<00:00, 11.49it/s]\n",
      "100%|██████████| 80/80 [00:08<00:00,  9.75it/s]\n"
     ]
    }
   ],
   "source": [
    "\n",
    "# # Label encoding\n",
    "all_labels = sorted(set(train_labels + val_labels + test_labels))\n",
    "label_to_idx = {label: idx for idx, label in enumerate(all_labels)}\n",
    "# Dataset class\n",
    "class ESC10Dataset(torch.utils.data.Dataset):\n",
    "    def __init__(self, data_dir):\n",
    "        self.data_dir = data_dir\n",
    "        with open(os.path.join(data_dir, 'metadata.pkl'), 'rb') as f:\n",
    "            self.data = pickle.load(f)\n",
    "\n",
    "    def __len__(self):\n",
    "        return len(self.data)\n",
    "\n",
    "    def __getitem__(self, idx):\n",
    "        filename, label = self.data[idx]\n",
    "        mel = np.load(os.path.join(self.data_dir, filename))\n",
    "        mel_tensor = torch.tensor(mel, dtype=torch.float32).unsqueeze(0)  # Shape: [1, 128, 500]\n",
    "        return mel_tensor, label\n",
    "# Precompute and save to disk\n",
    "precompute_melspectrograms(train_files, train_labels, \"precomputed/train\", label_to_idx)\n",
    "precompute_melspectrograms(val_files, val_labels, \"precomputed/val\", label_to_idx)\n",
    "precompute_melspectrograms(test_files, test_labels, \"precomputed/test\", label_to_idx)\n",
    "\n",
    "# Load precomputed dataset\n",
    "train_dataset = ESC10Dataset(\"precomputed/train\")\n",
    "val_dataset = ESC10Dataset(\"precomputed/val\")\n",
    "test_dataset = ESC10Dataset(\"precomputed/test\")\n",
    "\n",
    "train_loader = DataLoader(train_dataset, batch_size=16, shuffle=True)\n",
    "val_loader = DataLoader(val_dataset, batch_size=16, shuffle=False)\n",
    "test_loader = DataLoader(test_dataset, batch_size=16, shuffle=False)\n",
    "\n"
   ]
  },
  {
   "cell_type": "code",
   "execution_count": null,
   "id": "a2a7d651",
   "metadata": {},
   "outputs": [],
   "source": []
  },
  {
   "cell_type": "code",
   "execution_count": 31,
   "id": "4d9d93ef",
   "metadata": {},
   "outputs": [],
   "source": [
    "import matplotlib.pyplot as plt\n",
    "train_files[0]\n",
    "audio, sr = librosa.load(train_files[3])\n"
   ]
  },
  {
   "cell_type": "code",
   "execution_count": 8,
   "id": "a0c37e46",
   "metadata": {},
   "outputs": [
    {
     "data": {
      "image/png": "[encoded data removed]",
      "text/plain": [
       "<Figure size 1000x400 with 1 Axes>"
      ]
     },
     "metadata": {},
     "output_type": "display_data"
    }
   ],
   "source": [
    "# Plot the waveform with proper time axis\n",
    "waveform = audio\n",
    "sample_rate = audio[1]\n",
    "time = torch.arange(0, len(waveform)) / sample_rate\n",
    "plt.figure(figsize=(10, 4))\n",
    "plt.plot(time, waveform)\n",
    "plt.xlabel('Time (seconds)')\n",
    "plt.ylabel('Amplitude')\n",
    "plt.title(f'Audio Waveform: {train_labels[0]} - {train_files[0].name}')\n",
    "plt.grid(True)"
   ]
  },
  {
   "cell_type": "code",
   "execution_count": 32,
   "id": "5bae08ba",
   "metadata": {},
   "outputs": [],
   "source": [
    "\n",
    "def train_model(\n",
    "    model, train_loader, val_loader, \n",
    "    criterion, optimizer, \n",
    "    epochs=20, device='cpu', \n",
    "    save_path='best_model.pth'\n",
    "):\n",
    "    model = model.to(device)\n",
    "    best_val_acc = 0.0\n",
    "\n",
    "    train_accs, val_accs = [], []\n",
    "    train_losses, val_losses = [], []\n",
    "\n",
    "    for epoch in range(1, epochs + 1):\n",
    "        model.train()\n",
    "        running_loss, correct, total = 0.0, 0, 0\n",
    "\n",
    "        train_bar = tqdm(train_loader, desc=f\"[Epoch {epoch}/{epochs}] Training\", leave=False)\n",
    "        for X, y in train_bar:\n",
    "            X, y = X.to(device), y.to(device)\n",
    "\n",
    "            optimizer.zero_grad()\n",
    "            outputs = model(X)\n",
    "            loss = criterion(outputs, y)\n",
    "            loss.backward()\n",
    "            optimizer.step()\n",
    "\n",
    "            _, predicted = outputs.max(1)\n",
    "            correct += (predicted == y).sum().item()\n",
    "            total += y.size(0)\n",
    "            running_loss += loss.item() * y.size(0)\n",
    "\n",
    "            train_bar.set_postfix(loss=loss.item())\n",
    "\n",
    "        train_acc = correct / total\n",
    "        train_loss = running_loss / total\n",
    "        train_accs.append(train_acc)\n",
    "        train_losses.append(train_loss)\n",
    "\n",
    "        # Validation\n",
    "        model.eval()\n",
    "        val_loss_total, correct, total = 0.0, 0, 0\n",
    "\n",
    "        val_bar = tqdm(val_loader, desc=f\"[Epoch {epoch}/{epochs}] Validation\", leave=False)\n",
    "        with torch.no_grad():\n",
    "            for X, y in val_bar:\n",
    "                X, y = X.to(device), y.to(device)\n",
    "                outputs = model(X)\n",
    "                loss = criterion(outputs, y)\n",
    "\n",
    "                _, predicted = outputs.max(1)\n",
    "                correct += (predicted == y).sum().item()\n",
    "                total += y.size(0)\n",
    "                val_loss_total += loss.item() * y.size(0)\n",
    "\n",
    "        val_acc = correct / total\n",
    "        val_loss = val_loss_total / total\n",
    "        val_accs.append(val_acc)\n",
    "        val_losses.append(val_loss)\n",
    "\n",
    "        if val_acc > best_val_acc:\n",
    "            best_val_acc = val_acc\n",
    "            torch.save(model.state_dict(), save_path)\n",
    "\n",
    "        tqdm.write(\n",
    "            f\"Epoch {epoch}/{epochs} | \"\n",
    "            f\"Train Acc: {train_acc:.4f}, Loss: {train_loss:.4f} | \"\n",
    "            f\"Val Acc: {val_acc:.4f}, Loss: {val_loss:.4f}\"\n",
    "        )\n",
    "\n",
    "    return train_accs, val_accs, train_losses, val_losses\n"
   ]
  },
  {
   "cell_type": "code",
   "execution_count": 33,
   "id": "b9608e66",
   "metadata": {},
   "outputs": [],
   "source": [
    "\n",
    "def plot(train_accs, val_accs, train_losses=None, val_losses=None):\n",
    "    epochs = range(1, len(train_accs) + 1)\n",
    "    plt.figure(figsize=(12, 5))\n",
    "\n",
    "    # Accuracy subplot\n",
    "    plt.subplot(1, 2, 1)\n",
    "    plt.plot(epochs, train_accs, label='Train Accuracy')\n",
    "    plt.plot(epochs, val_accs, label='Validation Accuracy')\n",
    "    plt.xlabel('Epoch')\n",
    "    plt.ylabel('Accuracy')\n",
    "    plt.title('Training and Validation Accuracy')\n",
    "    plt.legend()\n",
    "    plt.grid(True)\n",
    "\n",
    "    # Loss subplot (only if provided)\n",
    "    if train_losses is not None and val_losses is not None:\n",
    "        plt.subplot(1, 2, 2)\n",
    "        plt.plot(epochs, train_losses, label='Train Loss')\n",
    "        plt.plot(epochs, val_losses, label='Validation Loss')\n",
    "        plt.xlabel('Epoch')\n",
    "        plt.ylabel('Loss')\n",
    "        plt.title('Training and Validation Loss')\n",
    "        plt.legend()\n",
    "        plt.grid(True)\n",
    "\n",
    "    plt.tight_layout()\n",
    "    plt.show()\n",
    "\n",
    "def evaluate_model(model, test_loader, device='cpu'):\n",
    "    model = model.to(device)\n",
    "    model.eval()\n",
    "    correct, total = 0, 0\n",
    "\n",
    "    with torch.no_grad():\n",
    "        for X, y in test_loader:\n",
    "            X, y = X.to(device), y.to(device)\n",
    "            outputs = model(X)\n",
    "            _, predicted = torch.max(outputs, 1)\n",
    "            correct += (predicted == y).sum().item()\n",
    "            total += y.size(0)\n",
    "\n",
    "    acc = correct / total\n",
    "    print(f\"[Final Evaluation] Test Accuracy: {acc:.4f}\")\n",
    "    return acc\n"
   ]
  },
  {
   "cell_type": "code",
   "execution_count": 34,
   "id": "89ec367e",
   "metadata": {},
   "outputs": [
    {
     "name": "stdout",
     "output_type": "stream",
     "text": [
      "Using device: cuda\n"
     ]
    }
   ],
   "source": [
    "device = torch.device(\"cuda\" if torch.cuda.is_available() else \"cpu\")\n",
    "print(\"Using device:\", device)\n"
   ]
  },
  {
   "cell_type": "code",
   "execution_count": 35,
   "id": "891643b5",
   "metadata": {},
   "outputs": [],
   "source": [
    "\n",
    "class ESC10CNN(nn.Module):\n",
    "    def __init__(self, norm_type=None, output_dim=10):\n",
    "        super(ESC10CNN, self).__init__()\n",
    "\n",
    "        self.conv1 = nn.Conv2d(1, 16, kernel_size=3, stride=1, padding=1)   # -> (16, 128, 500)\n",
    "        self.conv2 = nn.Conv2d(16, 32, kernel_size=3, stride=1, padding=1)  # -> (32, 128, 500)\n",
    "        self.pool = nn.MaxPool2d(kernel_size=3, stride=3)                   # -> (32, 14, 55)\n",
    "\n",
    "        self.flattened_size = 32 * 14 * 55  # = 24640\n",
    "\n",
    "        self.norm_type = norm_type\n",
    "        if norm_type == 'layer':\n",
    "            self.norm = nn.LayerNorm(self.flattened_size)\n",
    "        elif norm_type == 'batch':\n",
    "            self.norm = nn.BatchNorm1d(self.flattened_size)\n",
    "        else:\n",
    "            self.norm = None\n",
    "\n",
    "        self.fc1 = nn.Linear(self.flattened_size, 128)\n",
    "        self.fc2 = nn.Linear(128, 128)\n",
    "        self.out = nn.Linear(128, 10)\n",
    "\n",
    "    def forward(self, x):\n",
    "        x = self.pool(F.relu(self.conv1(x)))  # [B, 16, H, W]\n",
    "        x = self.pool(F.relu(self.conv2(x)))  # [B, 16, H/3, W/3]\n",
    "        x = x.view(x.size(0), -1)             # flatten\n",
    "\n",
    "        if self.norm:\n",
    "            x = self.norm(x)  # apply layer or batch norm\n",
    "\n",
    "        x = F.relu(self.fc1(x))\n",
    "        x = F.relu(self.fc2(x))\n",
    "        return self.out(x)\n",
    "  "
   ]
  },
  {
   "cell_type": "code",
   "execution_count": 36,
   "id": "cd097e7e",
   "metadata": {},
   "outputs": [],
   "source": [
    "import random\n",
    "random.seed(42)"
   ]
  },
  {
   "cell_type": "code",
   "execution_count": 37,
   "id": "97e832bc",
   "metadata": {},
   "outputs": [
    {
     "name": "stderr",
     "output_type": "stream",
     "text": [
      "                                                                                 \r"
     ]
    },
    {
     "name": "stdout",
     "output_type": "stream",
     "text": [
      "Epoch 1/20 | Train Acc: 0.1708, Loss: 2.2762 | Val Acc: 0.2375, Loss: 1.9651\n"
     ]
    },
    {
     "name": "stderr",
     "output_type": "stream",
     "text": [
      "                                                                                  \r"
     ]
    },
    {
     "name": "stdout",
     "output_type": "stream",
     "text": [
      "Epoch 2/20 | Train Acc: 0.4958, Loss: 1.4691 | Val Acc: 0.4000, Loss: 1.6042\n"
     ]
    },
    {
     "name": "stderr",
     "output_type": "stream",
     "text": [
      "                                                                                  \r"
     ]
    },
    {
     "name": "stdout",
     "output_type": "stream",
     "text": [
      "Epoch 3/20 | Train Acc: 0.6125, Loss: 0.9734 | Val Acc: 0.5750, Loss: 1.2566\n"
     ]
    },
    {
     "name": "stderr",
     "output_type": "stream",
     "text": [
      "                                                                                  \r"
     ]
    },
    {
     "name": "stdout",
     "output_type": "stream",
     "text": [
      "Epoch 4/20 | Train Acc: 0.7417, Loss: 0.6773 | Val Acc: 0.5625, Loss: 1.1827\n"
     ]
    },
    {
     "name": "stderr",
     "output_type": "stream",
     "text": [
      "                                                                                 \r"
     ]
    },
    {
     "name": "stdout",
     "output_type": "stream",
     "text": [
      "Epoch 5/20 | Train Acc: 0.8083, Loss: 0.5169 | Val Acc: 0.6375, Loss: 1.1584\n"
     ]
    },
    {
     "name": "stderr",
     "output_type": "stream",
     "text": [
      "                                                                                 \r"
     ]
    },
    {
     "name": "stdout",
     "output_type": "stream",
     "text": [
      "Epoch 6/20 | Train Acc: 0.8792, Loss: 0.3453 | Val Acc: 0.6375, Loss: 1.2074\n"
     ]
    },
    {
     "name": "stderr",
     "output_type": "stream",
     "text": [
      "                                                                                  \r"
     ]
    },
    {
     "name": "stdout",
     "output_type": "stream",
     "text": [
      "Epoch 7/20 | Train Acc: 0.9167, Loss: 0.2668 | Val Acc: 0.6000, Loss: 1.3302\n"
     ]
    },
    {
     "name": "stderr",
     "output_type": "stream",
     "text": [
      "                                                                                  \r"
     ]
    },
    {
     "name": "stdout",
     "output_type": "stream",
     "text": [
      "Epoch 8/20 | Train Acc: 0.9417, Loss: 0.1867 | Val Acc: 0.6875, Loss: 1.1776\n"
     ]
    },
    {
     "name": "stderr",
     "output_type": "stream",
     "text": [
      "                                                                                  \r"
     ]
    },
    {
     "name": "stdout",
     "output_type": "stream",
     "text": [
      "Epoch 9/20 | Train Acc: 0.9542, Loss: 0.1357 | Val Acc: 0.6375, Loss: 1.4731\n"
     ]
    },
    {
     "name": "stderr",
     "output_type": "stream",
     "text": [
      "                                                                                   \r"
     ]
    },
    {
     "name": "stdout",
     "output_type": "stream",
     "text": [
      "Epoch 10/20 | Train Acc: 0.9250, Loss: 0.1914 | Val Acc: 0.6375, Loss: 1.7016\n"
     ]
    },
    {
     "name": "stderr",
     "output_type": "stream",
     "text": [
      "                                                                                   \r"
     ]
    },
    {
     "name": "stdout",
     "output_type": "stream",
     "text": [
      "Epoch 11/20 | Train Acc: 0.9375, Loss: 0.2164 | Val Acc: 0.6000, Loss: 1.4133\n"
     ]
    },
    {
     "name": "stderr",
     "output_type": "stream",
     "text": [
      "                                                                                    \r"
     ]
    },
    {
     "name": "stdout",
     "output_type": "stream",
     "text": [
      "Epoch 12/20 | Train Acc: 0.9375, Loss: 0.1770 | Val Acc: 0.7125, Loss: 1.1229\n"
     ]
    },
    {
     "name": "stderr",
     "output_type": "stream",
     "text": [
      "                                                                                    \r"
     ]
    },
    {
     "name": "stdout",
     "output_type": "stream",
     "text": [
      "Epoch 13/20 | Train Acc: 0.9667, Loss: 0.0883 | Val Acc: 0.7250, Loss: 1.1399\n"
     ]
    },
    {
     "name": "stderr",
     "output_type": "stream",
     "text": [
      "                                                                                    \r"
     ]
    },
    {
     "name": "stdout",
     "output_type": "stream",
     "text": [
      "Epoch 14/20 | Train Acc: 0.9875, Loss: 0.0748 | Val Acc: 0.6375, Loss: 1.3832\n"
     ]
    },
    {
     "name": "stderr",
     "output_type": "stream",
     "text": [
      "                                                                                     \r"
     ]
    },
    {
     "name": "stdout",
     "output_type": "stream",
     "text": [
      "Epoch 15/20 | Train Acc: 0.9875, Loss: 0.0383 | Val Acc: 0.6500, Loss: 1.2682\n"
     ]
    },
    {
     "name": "stderr",
     "output_type": "stream",
     "text": [
      "                                                                                    \r"
     ]
    },
    {
     "name": "stdout",
     "output_type": "stream",
     "text": [
      "Epoch 16/20 | Train Acc: 0.9958, Loss: 0.0194 | Val Acc: 0.6750, Loss: 1.3807\n"
     ]
    },
    {
     "name": "stderr",
     "output_type": "stream",
     "text": [
      "                                                                                     \r"
     ]
    },
    {
     "name": "stdout",
     "output_type": "stream",
     "text": [
      "Epoch 17/20 | Train Acc: 1.0000, Loss: 0.0114 | Val Acc: 0.6875, Loss: 1.2707\n"
     ]
    },
    {
     "name": "stderr",
     "output_type": "stream",
     "text": [
      "                                                                                    \r"
     ]
    },
    {
     "name": "stdout",
     "output_type": "stream",
     "text": [
      "Epoch 18/20 | Train Acc: 1.0000, Loss: 0.0071 | Val Acc: 0.6500, Loss: 1.4549\n"
     ]
    },
    {
     "name": "stderr",
     "output_type": "stream",
     "text": [
      "                                                                                     \r"
     ]
    },
    {
     "name": "stdout",
     "output_type": "stream",
     "text": [
      "Epoch 19/20 | Train Acc: 1.0000, Loss: 0.0054 | Val Acc: 0.6875, Loss: 1.4308\n"
     ]
    },
    {
     "name": "stderr",
     "output_type": "stream",
     "text": [
      "                                                                                      \r"
     ]
    },
    {
     "name": "stdout",
     "output_type": "stream",
     "text": [
      "Epoch 20/20 | Train Acc: 1.0000, Loss: 0.0039 | Val Acc: 0.6750, Loss: 1.4432\n"
     ]
    },
    {
     "data": {
      "image/png": "[encoded data removed]",
      "text/plain": [
       "<Figure size 1200x500 with 1 Axes>"
      ]
     },
     "metadata": {},
     "output_type": "display_data"
    },
    {
     "name": "stderr",
     "output_type": "stream",
     "text": [
      "/tmp/ipykernel_1384480/1008257851.py:19: FutureWarning: You are using `torch.load` with `weights_only=False` (the current default value), which uses the default pickle module implicitly. It is possible to construct malicious pickle data which will execute arbitrary code during unpickling (See https://github.com/pytorch/pytorch/blob/main/SECURITY.md#untrusted-models for more details). In a future release, the default value for `weights_only` will be flipped to `True`. This limits the functions that could be executed during unpickling. Arbitrary objects will no longer be allowed to be loaded via this mode unless they are explicitly allowlisted by the user via `torch.serialization.add_safe_globals`. We recommend you start setting `weights_only=True` for any use case where you don't have full control of the loaded file. Please open an issue on GitHub for any issues related to this experimental feature.\n",
      "  model.load_state_dict(torch.load('best_model.pth'))\n"
     ]
    },
    {
     "data": {
      "text/plain": [
       "<All keys matched successfully>"
      ]
     },
     "execution_count": 37,
     "metadata": {},
     "output_type": "execute_result"
    }
   ],
   "source": [
    "\n",
    "\n",
    "model = ESC10CNN()\n",
    "# model = torch.nn.DataParallel(model)\n",
    "criterion = nn.CrossEntropyLoss()\n",
    "optimizer = torch.optim.Adam(model.parameters(), lr=1e-3)\n",
    "\n",
    "train_accs, val_accs, train_losses, val_losses = train_model(\n",
    "    model, train_loader, val_loader,\n",
    "    criterion, optimizer,\n",
    "    epochs=20,\n",
    "    device=device,  # use GPU\n",
    "    save_path='best_model.pth'\n",
    ")\n",
    "\n",
    "\n",
    "# Plot training vs validation accuracy\n",
    "plot(train_accs, val_accs)\n",
    "\n",
    "# Load best model and evaluate on test set\n",
    "model.load_state_dict(torch.load('best_model.pth'))\n",
    "\n"
   ]
  },
  {
   "cell_type": "code",
   "execution_count": 38,
   "id": "40bb63f0",
   "metadata": {},
   "outputs": [
    {
     "name": "stdout",
     "output_type": "stream",
     "text": [
      "[Final Evaluation] Test Accuracy: 0.7000\n"
     ]
    },
    {
     "data": {
      "text/plain": [
       "0.7"
      ]
     },
     "execution_count": 38,
     "metadata": {},
     "output_type": "execute_result"
    }
   ],
   "source": [
    "evaluate_model(model, test_loader)"
   ]
  },
  {
   "cell_type": "code",
   "execution_count": 39,
   "id": "3c91fbb8",
   "metadata": {},
   "outputs": [],
   "source": [
    "\n",
    "def run_training(optimizer_name, model_cls, train_loader, val_loader, test_loader, device):\n",
    "    model = model_cls().to(device)\n",
    "    criterion = nn.CrossEntropyLoss()\n",
    "    \n",
    "    if optimizer_name == 'SGD':\n",
    "        optimizer = optim.SGD(model.parameters(), lr=0.01)\n",
    "    elif optimizer_name == 'SGD+Momentum':\n",
    "        optimizer = optim.SGD(model.parameters(), lr=0.01, momentum=0.9)\n",
    "    elif optimizer_name == 'RMSprop':\n",
    "        optimizer = optim.RMSprop(model.parameters(), lr=0.001)\n",
    "    elif optimizer_name == 'Adam':\n",
    "        optimizer = optim.Adam(model.parameters(), lr=0.001)\n",
    "    else:\n",
    "        raise ValueError(\"Unknown optimizer\")\n",
    "\n",
    "    print(f\"Training with {optimizer_name}...\")\n",
    "    train_accs, val_accs, train_losses, val_losses = train_model(\n",
    "        model, train_loader, val_loader,\n",
    "        criterion, optimizer,\n",
    "        epochs=20,\n",
    "        device=device,\n",
    "        save_path=f'model_{optimizer_name}.pth'\n",
    "    )\n",
    "\n",
    "    # Load best model\n",
    "    model.load_state_dict(torch.load(f'model_{optimizer_name}.pth'))\n",
    "\n",
    "    # Evaluate on test set\n",
    "    test_acc = evaluate_model(model, test_loader, device=device, verbose=False)\n",
    "    \n",
    "    return {\n",
    "        \"optimizer\": optimizer_name,\n",
    "        \"train_accs\": train_accs,\n",
    "        \"val_accs\": val_accs,\n",
    "        \"train_losses\": train_losses,\n",
    "        \"val_losses\": val_losses,\n",
    "        \"test_acc\": test_acc\n",
    "    }\n",
    "def evaluate_model(model, test_loader, device='cpu', verbose=True):\n",
    "    model = model.to(device)\n",
    "    model.eval()\n",
    "    correct, total = 0, 0\n",
    "    with torch.no_grad():\n",
    "        for X, y in test_loader:\n",
    "            X, y = X.to(device), y.to(device)\n",
    "            outputs = model(X)\n",
    "            _, predicted = torch.max(outputs, 1)\n",
    "            correct += (predicted == y).sum().item()\n",
    "            total += y.size(0)\n",
    "    acc = correct / total\n",
    "    if verbose:\n",
    "        print(f\"Test Accuracy: {acc:.4f}\")\n",
    "    return acc\n"
   ]
  },
  {
   "cell_type": "code",
   "execution_count": 40,
   "id": "018b87fe",
   "metadata": {},
   "outputs": [],
   "source": [
    "\n",
    "def plot_all_results(results):\n",
    "    plt.figure(figsize=(14, 5))\n",
    "\n",
    "    # Accuracy plot\n",
    "    plt.subplot(1, 2, 1)\n",
    "    for res in results:\n",
    "        epochs = range(1, len(res['train_accs']) + 1)\n",
    "        plt.plot(epochs, res['train_accs'], label=f\"{res['optimizer']} Train\")\n",
    "        plt.plot(epochs, res['val_accs'], '--', label=f\"{res['optimizer']} Val\")\n",
    "    plt.xlabel('Epoch')\n",
    "    plt.ylabel('Accuracy')\n",
    "    plt.title('Training and Validation Accuracy')\n",
    "    plt.legend()\n",
    "    plt.grid(True)\n",
    "\n",
    "    # Loss plot\n",
    "    plt.subplot(1, 2, 2)\n",
    "    for res in results:\n",
    "        epochs = range(1, len(res['train_losses']) + 1)\n",
    "        plt.plot(epochs, res['train_losses'], label=f\"{res['optimizer']} Train\")\n",
    "        plt.plot(epochs, res['val_losses'], '--', label=f\"{res['optimizer']} Val\")\n",
    "    plt.xlabel('Epoch')\n",
    "    plt.ylabel('Loss')\n",
    "    plt.title('Training and Validation Loss')\n",
    "    plt.legend()\n",
    "    plt.grid(True)\n",
    "\n",
    "    plt.tight_layout()\n",
    "    plt.show()\n"
   ]
  },
  {
   "cell_type": "markdown",
   "id": "395166a0",
   "metadata": {},
   "source": [
    "# Optimizer Comparison (3a)"
   ]
  },
  {
   "cell_type": "code",
   "execution_count": 41,
   "id": "010197d2",
   "metadata": {},
   "outputs": [
    {
     "name": "stdout",
     "output_type": "stream",
     "text": [
      "Training with SGD...\n"
     ]
    },
    {
     "name": "stderr",
     "output_type": "stream",
     "text": [
      "                                                                                \r"
     ]
    },
    {
     "name": "stdout",
     "output_type": "stream",
     "text": [
      "Epoch 1/20 | Train Acc: 0.1500, Loss: 2.2925 | Val Acc: 0.3250, Loss: 2.2709\n"
     ]
    },
    {
     "name": "stderr",
     "output_type": "stream",
     "text": [
      "                                                                                \r"
     ]
    },
    {
     "name": "stdout",
     "output_type": "stream",
     "text": [
      "Epoch 2/20 | Train Acc: 0.2417, Loss: 2.2476 | Val Acc: 0.2875, Loss: 2.2159\n"
     ]
    },
    {
     "name": "stderr",
     "output_type": "stream",
     "text": [
      "                                                                                \r"
     ]
    },
    {
     "name": "stdout",
     "output_type": "stream",
     "text": [
      "Epoch 3/20 | Train Acc: 0.2208, Loss: 2.1702 | Val Acc: 0.2375, Loss: 2.1179\n"
     ]
    },
    {
     "name": "stderr",
     "output_type": "stream",
     "text": [
      "                                                                                \r"
     ]
    },
    {
     "name": "stdout",
     "output_type": "stream",
     "text": [
      "Epoch 4/20 | Train Acc: 0.2708, Loss: 2.0384 | Val Acc: 0.2625, Loss: 1.9697\n"
     ]
    },
    {
     "name": "stderr",
     "output_type": "stream",
     "text": [
      "                                                                                \r"
     ]
    },
    {
     "name": "stdout",
     "output_type": "stream",
     "text": [
      "Epoch 5/20 | Train Acc: 0.3333, Loss: 1.8424 | Val Acc: 0.3750, Loss: 1.8058\n"
     ]
    },
    {
     "name": "stderr",
     "output_type": "stream",
     "text": [
      "                                                                                 \r"
     ]
    },
    {
     "name": "stdout",
     "output_type": "stream",
     "text": [
      "Epoch 6/20 | Train Acc: 0.4042, Loss: 1.6750 | Val Acc: 0.3500, Loss: 1.7050\n"
     ]
    },
    {
     "name": "stderr",
     "output_type": "stream",
     "text": [
      "                                                                                \r"
     ]
    },
    {
     "name": "stdout",
     "output_type": "stream",
     "text": [
      "Epoch 7/20 | Train Acc: 0.4167, Loss: 1.5732 | Val Acc: 0.2500, Loss: 1.7323\n"
     ]
    },
    {
     "name": "stderr",
     "output_type": "stream",
     "text": [
      "                                                                                \r"
     ]
    },
    {
     "name": "stdout",
     "output_type": "stream",
     "text": [
      "Epoch 8/20 | Train Acc: 0.4708, Loss: 1.4389 | Val Acc: 0.4000, Loss: 1.6671\n"
     ]
    },
    {
     "name": "stderr",
     "output_type": "stream",
     "text": [
      "                                                                                 \r"
     ]
    },
    {
     "name": "stdout",
     "output_type": "stream",
     "text": [
      "Epoch 9/20 | Train Acc: 0.5042, Loss: 1.3756 | Val Acc: 0.4000, Loss: 1.6222\n"
     ]
    },
    {
     "name": "stderr",
     "output_type": "stream",
     "text": [
      "                                                                                  \r"
     ]
    },
    {
     "name": "stdout",
     "output_type": "stream",
     "text": [
      "Epoch 10/20 | Train Acc: 0.5333, Loss: 1.1980 | Val Acc: 0.4500, Loss: 1.7733\n"
     ]
    },
    {
     "name": "stderr",
     "output_type": "stream",
     "text": [
      "                                                                                  \r"
     ]
    },
    {
     "name": "stdout",
     "output_type": "stream",
     "text": [
      "Epoch 11/20 | Train Acc: 0.5458, Loss: 1.1835 | Val Acc: 0.4500, Loss: 1.5421\n"
     ]
    },
    {
     "name": "stderr",
     "output_type": "stream",
     "text": [
      "                                                                                  \r"
     ]
    },
    {
     "name": "stdout",
     "output_type": "stream",
     "text": [
      "Epoch 12/20 | Train Acc: 0.5667, Loss: 1.0927 | Val Acc: 0.4000, Loss: 1.5993\n"
     ]
    },
    {
     "name": "stderr",
     "output_type": "stream",
     "text": [
      "                                                                                  \r"
     ]
    },
    {
     "name": "stdout",
     "output_type": "stream",
     "text": [
      "Epoch 13/20 | Train Acc: 0.5917, Loss: 1.1433 | Val Acc: 0.4875, Loss: 1.5619\n"
     ]
    },
    {
     "name": "stderr",
     "output_type": "stream",
     "text": [
      "                                                                                  \r"
     ]
    },
    {
     "name": "stdout",
     "output_type": "stream",
     "text": [
      "Epoch 14/20 | Train Acc: 0.6333, Loss: 0.9588 | Val Acc: 0.5000, Loss: 1.4005\n"
     ]
    },
    {
     "name": "stderr",
     "output_type": "stream",
     "text": [
      "                                                                                   \r"
     ]
    },
    {
     "name": "stdout",
     "output_type": "stream",
     "text": [
      "Epoch 15/20 | Train Acc: 0.6625, Loss: 0.8956 | Val Acc: 0.5000, Loss: 1.3666\n"
     ]
    },
    {
     "name": "stderr",
     "output_type": "stream",
     "text": [
      "                                                                                  \r"
     ]
    },
    {
     "name": "stdout",
     "output_type": "stream",
     "text": [
      "Epoch 16/20 | Train Acc: 0.6458, Loss: 0.8160 | Val Acc: 0.4625, Loss: 1.4182\n"
     ]
    },
    {
     "name": "stderr",
     "output_type": "stream",
     "text": [
      "                                                                                  \r"
     ]
    },
    {
     "name": "stdout",
     "output_type": "stream",
     "text": [
      "Epoch 17/20 | Train Acc: 0.7333, Loss: 0.7324 | Val Acc: 0.5375, Loss: 1.4242\n"
     ]
    },
    {
     "name": "stderr",
     "output_type": "stream",
     "text": [
      "                                                                                  \r"
     ]
    },
    {
     "name": "stdout",
     "output_type": "stream",
     "text": [
      "Epoch 18/20 | Train Acc: 0.7125, Loss: 0.7908 | Val Acc: 0.5000, Loss: 1.3627\n"
     ]
    },
    {
     "name": "stderr",
     "output_type": "stream",
     "text": [
      "                                                                                  \r"
     ]
    },
    {
     "name": "stdout",
     "output_type": "stream",
     "text": [
      "Epoch 19/20 | Train Acc: 0.7583, Loss: 0.6646 | Val Acc: 0.5000, Loss: 1.4269\n"
     ]
    },
    {
     "name": "stderr",
     "output_type": "stream",
     "text": [
      "/tmp/ipykernel_1384480/3191131198.py:26: FutureWarning: You are using `torch.load` with `weights_only=False` (the current default value), which uses the default pickle module implicitly. It is possible to construct malicious pickle data which will execute arbitrary code during unpickling (See https://github.com/pytorch/pytorch/blob/main/SECURITY.md#untrusted-models for more details). In a future release, the default value for `weights_only` will be flipped to `True`. This limits the functions that could be executed during unpickling. Arbitrary objects will no longer be allowed to be loaded via this mode unless they are explicitly allowlisted by the user via `torch.serialization.add_safe_globals`. We recommend you start setting `weights_only=True` for any use case where you don't have full control of the loaded file. Please open an issue on GitHub for any issues related to this experimental feature.\n",
      "  model.load_state_dict(torch.load(f'model_{optimizer_name}.pth'))\n"
     ]
    },
    {
     "name": "stdout",
     "output_type": "stream",
     "text": [
      "Epoch 20/20 | Train Acc: 0.8125, Loss: 0.5575 | Val Acc: 0.6375, Loss: 1.2995\n",
      "Training with SGD+Momentum...\n"
     ]
    },
    {
     "name": "stderr",
     "output_type": "stream",
     "text": [
      "                                                                                \r"
     ]
    },
    {
     "name": "stdout",
     "output_type": "stream",
     "text": [
      "Epoch 1/20 | Train Acc: 0.1250, Loss: 2.2982 | Val Acc: 0.3000, Loss: 2.2680\n"
     ]
    },
    {
     "name": "stderr",
     "output_type": "stream",
     "text": [
      "                                                                                \r"
     ]
    },
    {
     "name": "stdout",
     "output_type": "stream",
     "text": [
      "Epoch 2/20 | Train Acc: 0.3458, Loss: 2.1609 | Val Acc: 0.2625, Loss: 1.9761\n"
     ]
    },
    {
     "name": "stderr",
     "output_type": "stream",
     "text": [
      "                                                                                \r"
     ]
    },
    {
     "name": "stdout",
     "output_type": "stream",
     "text": [
      "Epoch 3/20 | Train Acc: 0.3875, Loss: 1.7744 | Val Acc: 0.3250, Loss: 1.7620\n"
     ]
    },
    {
     "name": "stderr",
     "output_type": "stream",
     "text": [
      "                                                                                 \r"
     ]
    },
    {
     "name": "stdout",
     "output_type": "stream",
     "text": [
      "Epoch 4/20 | Train Acc: 0.4542, Loss: 1.4847 | Val Acc: 0.4375, Loss: 1.7313\n"
     ]
    },
    {
     "name": "stderr",
     "output_type": "stream",
     "text": [
      "                                                                                 \r"
     ]
    },
    {
     "name": "stdout",
     "output_type": "stream",
     "text": [
      "Epoch 5/20 | Train Acc: 0.5458, Loss: 1.1693 | Val Acc: 0.5500, Loss: 1.5596\n"
     ]
    },
    {
     "name": "stderr",
     "output_type": "stream",
     "text": [
      "                                                                                 \r"
     ]
    },
    {
     "name": "stdout",
     "output_type": "stream",
     "text": [
      "Epoch 6/20 | Train Acc: 0.6750, Loss: 0.8450 | Val Acc: 0.4500, Loss: 1.5477\n"
     ]
    },
    {
     "name": "stderr",
     "output_type": "stream",
     "text": [
      "                                                                                 \r"
     ]
    },
    {
     "name": "stdout",
     "output_type": "stream",
     "text": [
      "Epoch 7/20 | Train Acc: 0.6542, Loss: 0.9388 | Val Acc: 0.5125, Loss: 1.4014\n"
     ]
    },
    {
     "name": "stderr",
     "output_type": "stream",
     "text": [
      "                                                                                 \r"
     ]
    },
    {
     "name": "stdout",
     "output_type": "stream",
     "text": [
      "Epoch 8/20 | Train Acc: 0.7417, Loss: 0.6872 | Val Acc: 0.5375, Loss: 1.6795\n"
     ]
    },
    {
     "name": "stderr",
     "output_type": "stream",
     "text": [
      "                                                                                 \r"
     ]
    },
    {
     "name": "stdout",
     "output_type": "stream",
     "text": [
      "Epoch 9/20 | Train Acc: 0.6917, Loss: 0.9849 | Val Acc: 0.4500, Loss: 1.5942\n"
     ]
    },
    {
     "name": "stderr",
     "output_type": "stream",
     "text": [
      "                                                                                  \r"
     ]
    },
    {
     "name": "stdout",
     "output_type": "stream",
     "text": [
      "Epoch 10/20 | Train Acc: 0.6542, Loss: 0.8803 | Val Acc: 0.4750, Loss: 1.6326\n"
     ]
    },
    {
     "name": "stderr",
     "output_type": "stream",
     "text": [
      "                                                                                  \r"
     ]
    },
    {
     "name": "stdout",
     "output_type": "stream",
     "text": [
      "Epoch 11/20 | Train Acc: 0.8042, Loss: 0.4765 | Val Acc: 0.6000, Loss: 1.6139\n"
     ]
    },
    {
     "name": "stderr",
     "output_type": "stream",
     "text": [
      "                                                                                  \r"
     ]
    },
    {
     "name": "stdout",
     "output_type": "stream",
     "text": [
      "Epoch 12/20 | Train Acc: 0.8583, Loss: 0.4540 | Val Acc: 0.7500, Loss: 1.0299\n"
     ]
    },
    {
     "name": "stderr",
     "output_type": "stream",
     "text": [
      "                                                                                  \r"
     ]
    },
    {
     "name": "stdout",
     "output_type": "stream",
     "text": [
      "Epoch 13/20 | Train Acc: 0.8708, Loss: 0.3520 | Val Acc: 0.7250, Loss: 1.1197\n"
     ]
    },
    {
     "name": "stderr",
     "output_type": "stream",
     "text": [
      "                                                                                   \r"
     ]
    },
    {
     "name": "stdout",
     "output_type": "stream",
     "text": [
      "Epoch 14/20 | Train Acc: 0.8917, Loss: 0.3090 | Val Acc: 0.6000, Loss: 1.6806\n"
     ]
    },
    {
     "name": "stderr",
     "output_type": "stream",
     "text": [
      "                                                                                  \r"
     ]
    },
    {
     "name": "stdout",
     "output_type": "stream",
     "text": [
      "Epoch 15/20 | Train Acc: 0.8875, Loss: 0.2940 | Val Acc: 0.5500, Loss: 1.8869\n"
     ]
    },
    {
     "name": "stderr",
     "output_type": "stream",
     "text": [
      "                                                                                  \r"
     ]
    },
    {
     "name": "stdout",
     "output_type": "stream",
     "text": [
      "Epoch 16/20 | Train Acc: 0.9042, Loss: 0.3197 | Val Acc: 0.6750, Loss: 1.5727\n"
     ]
    },
    {
     "name": "stderr",
     "output_type": "stream",
     "text": [
      "                                                                                  \r"
     ]
    },
    {
     "name": "stdout",
     "output_type": "stream",
     "text": [
      "Epoch 17/20 | Train Acc: 0.9000, Loss: 0.2606 | Val Acc: 0.7000, Loss: 1.4134\n"
     ]
    },
    {
     "name": "stderr",
     "output_type": "stream",
     "text": [
      "                                                                                  \r"
     ]
    },
    {
     "name": "stdout",
     "output_type": "stream",
     "text": [
      "Epoch 18/20 | Train Acc: 0.9375, Loss: 0.1915 | Val Acc: 0.7125, Loss: 1.6095\n"
     ]
    },
    {
     "name": "stderr",
     "output_type": "stream",
     "text": [
      "                                                                                   \r"
     ]
    },
    {
     "name": "stdout",
     "output_type": "stream",
     "text": [
      "Epoch 19/20 | Train Acc: 0.9208, Loss: 0.1781 | Val Acc: 0.7000, Loss: 1.3784\n"
     ]
    },
    {
     "name": "stderr",
     "output_type": "stream",
     "text": [
      "                                                                                  \r"
     ]
    },
    {
     "name": "stdout",
     "output_type": "stream",
     "text": [
      "Epoch 20/20 | Train Acc: 0.9083, Loss: 0.2744 | Val Acc: 0.5625, Loss: 2.1464\n",
      "Training with RMSprop...\n"
     ]
    },
    {
     "name": "stderr",
     "output_type": "stream",
     "text": [
      "                                                                                \r"
     ]
    },
    {
     "name": "stdout",
     "output_type": "stream",
     "text": [
      "Epoch 1/20 | Train Acc: 0.1167, Loss: 4.9828 | Val Acc: 0.2875, Loss: 2.1309\n"
     ]
    },
    {
     "name": "stderr",
     "output_type": "stream",
     "text": [
      "                                                                                \r"
     ]
    },
    {
     "name": "stdout",
     "output_type": "stream",
     "text": [
      "Epoch 2/20 | Train Acc: 0.3583, Loss: 1.7699 | Val Acc: 0.3375, Loss: 1.5219\n"
     ]
    },
    {
     "name": "stderr",
     "output_type": "stream",
     "text": [
      "                                                                                 \r"
     ]
    },
    {
     "name": "stdout",
     "output_type": "stream",
     "text": [
      "Epoch 3/20 | Train Acc: 0.5000, Loss: 1.2976 | Val Acc: 0.4125, Loss: 1.6311\n"
     ]
    },
    {
     "name": "stderr",
     "output_type": "stream",
     "text": [
      "                                                                                 \r"
     ]
    },
    {
     "name": "stdout",
     "output_type": "stream",
     "text": [
      "Epoch 4/20 | Train Acc: 0.6458, Loss: 0.9600 | Val Acc: 0.6250, Loss: 1.0842\n"
     ]
    },
    {
     "name": "stderr",
     "output_type": "stream",
     "text": [
      "                                                                                 \r"
     ]
    },
    {
     "name": "stdout",
     "output_type": "stream",
     "text": [
      "Epoch 5/20 | Train Acc: 0.7125, Loss: 0.7401 | Val Acc: 0.6500, Loss: 1.0311\n"
     ]
    },
    {
     "name": "stderr",
     "output_type": "stream",
     "text": [
      "                                                                                 \r"
     ]
    },
    {
     "name": "stdout",
     "output_type": "stream",
     "text": [
      "Epoch 6/20 | Train Acc: 0.7958, Loss: 0.5656 | Val Acc: 0.6500, Loss: 1.0793\n"
     ]
    },
    {
     "name": "stderr",
     "output_type": "stream",
     "text": [
      "                                                                                 \r"
     ]
    },
    {
     "name": "stdout",
     "output_type": "stream",
     "text": [
      "Epoch 7/20 | Train Acc: 0.8292, Loss: 0.4717 | Val Acc: 0.5625, Loss: 1.2952\n"
     ]
    },
    {
     "name": "stderr",
     "output_type": "stream",
     "text": [
      "                                                                                 \r"
     ]
    },
    {
     "name": "stdout",
     "output_type": "stream",
     "text": [
      "Epoch 8/20 | Train Acc: 0.8625, Loss: 0.3786 | Val Acc: 0.6750, Loss: 1.1353\n"
     ]
    },
    {
     "name": "stderr",
     "output_type": "stream",
     "text": [
      "                                                                                 \r"
     ]
    },
    {
     "name": "stdout",
     "output_type": "stream",
     "text": [
      "Epoch 9/20 | Train Acc: 0.8958, Loss: 0.3657 | Val Acc: 0.7375, Loss: 1.0383\n"
     ]
    },
    {
     "name": "stderr",
     "output_type": "stream",
     "text": [
      "                                                                                   \r"
     ]
    },
    {
     "name": "stdout",
     "output_type": "stream",
     "text": [
      "Epoch 10/20 | Train Acc: 0.9250, Loss: 0.2328 | Val Acc: 0.6625, Loss: 1.2662\n"
     ]
    },
    {
     "name": "stderr",
     "output_type": "stream",
     "text": [
      "                                                                                  \r"
     ]
    },
    {
     "name": "stdout",
     "output_type": "stream",
     "text": [
      "Epoch 11/20 | Train Acc: 0.9250, Loss: 0.2402 | Val Acc: 0.7000, Loss: 1.0092\n"
     ]
    },
    {
     "name": "stderr",
     "output_type": "stream",
     "text": [
      "                                                                                   \r"
     ]
    },
    {
     "name": "stdout",
     "output_type": "stream",
     "text": [
      "Epoch 12/20 | Train Acc: 0.9625, Loss: 0.1524 | Val Acc: 0.7000, Loss: 1.1450\n"
     ]
    },
    {
     "name": "stderr",
     "output_type": "stream",
     "text": [
      "                                                                                   \r"
     ]
    },
    {
     "name": "stdout",
     "output_type": "stream",
     "text": [
      "Epoch 13/20 | Train Acc: 0.9125, Loss: 0.2098 | Val Acc: 0.5375, Loss: 1.6659\n"
     ]
    },
    {
     "name": "stderr",
     "output_type": "stream",
     "text": [
      "                                                                                   \r"
     ]
    },
    {
     "name": "stdout",
     "output_type": "stream",
     "text": [
      "Epoch 14/20 | Train Acc: 0.9583, Loss: 0.1513 | Val Acc: 0.6500, Loss: 2.0078\n"
     ]
    },
    {
     "name": "stderr",
     "output_type": "stream",
     "text": [
      "                                                                                   \r"
     ]
    },
    {
     "name": "stdout",
     "output_type": "stream",
     "text": [
      "Epoch 15/20 | Train Acc: 0.9375, Loss: 0.2220 | Val Acc: 0.7000, Loss: 1.0344\n"
     ]
    },
    {
     "name": "stderr",
     "output_type": "stream",
     "text": [
      "                                                                                   \r"
     ]
    },
    {
     "name": "stdout",
     "output_type": "stream",
     "text": [
      "Epoch 16/20 | Train Acc: 0.9500, Loss: 0.1529 | Val Acc: 0.7250, Loss: 1.0918\n"
     ]
    },
    {
     "name": "stderr",
     "output_type": "stream",
     "text": [
      "                                                                                   \r"
     ]
    },
    {
     "name": "stdout",
     "output_type": "stream",
     "text": [
      "Epoch 17/20 | Train Acc: 0.9833, Loss: 0.0671 | Val Acc: 0.7000, Loss: 1.2243\n"
     ]
    },
    {
     "name": "stderr",
     "output_type": "stream",
     "text": [
      "                                                                                   \r"
     ]
    },
    {
     "name": "stdout",
     "output_type": "stream",
     "text": [
      "Epoch 18/20 | Train Acc: 0.9750, Loss: 0.0734 | Val Acc: 0.6750, Loss: 1.3587\n"
     ]
    },
    {
     "name": "stderr",
     "output_type": "stream",
     "text": [
      "                                                                                    \r"
     ]
    },
    {
     "name": "stdout",
     "output_type": "stream",
     "text": [
      "Epoch 19/20 | Train Acc: 0.9583, Loss: 0.1265 | Val Acc: 0.5875, Loss: 1.3728\n"
     ]
    },
    {
     "name": "stderr",
     "output_type": "stream",
     "text": [
      "                                                                                    \r"
     ]
    },
    {
     "name": "stdout",
     "output_type": "stream",
     "text": [
      "Epoch 20/20 | Train Acc: 0.9667, Loss: 0.1102 | Val Acc: 0.6875, Loss: 1.2222\n",
      "Training with Adam...\n"
     ]
    },
    {
     "name": "stderr",
     "output_type": "stream",
     "text": [
      "                                                                                \r"
     ]
    },
    {
     "name": "stdout",
     "output_type": "stream",
     "text": [
      "Epoch 1/20 | Train Acc: 0.2208, Loss: 2.0885 | Val Acc: 0.4000, Loss: 1.6119\n"
     ]
    },
    {
     "name": "stderr",
     "output_type": "stream",
     "text": [
      "                                                                                  \r"
     ]
    },
    {
     "name": "stdout",
     "output_type": "stream",
     "text": [
      "Epoch 2/20 | Train Acc: 0.5917, Loss: 1.1261 | Val Acc: 0.5375, Loss: 1.3706\n"
     ]
    },
    {
     "name": "stderr",
     "output_type": "stream",
     "text": [
      "                                                                                 \r"
     ]
    },
    {
     "name": "stdout",
     "output_type": "stream",
     "text": [
      "Epoch 3/20 | Train Acc: 0.7125, Loss: 0.7131 | Val Acc: 0.5500, Loss: 1.4826\n"
     ]
    },
    {
     "name": "stderr",
     "output_type": "stream",
     "text": [
      "                                                                                 \r"
     ]
    },
    {
     "name": "stdout",
     "output_type": "stream",
     "text": [
      "Epoch 4/20 | Train Acc: 0.8042, Loss: 0.5462 | Val Acc: 0.6250, Loss: 1.4417\n"
     ]
    },
    {
     "name": "stderr",
     "output_type": "stream",
     "text": [
      "                                                                                 \r"
     ]
    },
    {
     "name": "stdout",
     "output_type": "stream",
     "text": [
      "Epoch 5/20 | Train Acc: 0.8500, Loss: 0.4389 | Val Acc: 0.6125, Loss: 1.3523\n"
     ]
    },
    {
     "name": "stderr",
     "output_type": "stream",
     "text": [
      "                                                                                  \r"
     ]
    },
    {
     "name": "stdout",
     "output_type": "stream",
     "text": [
      "Epoch 6/20 | Train Acc: 0.8917, Loss: 0.3141 | Val Acc: 0.5250, Loss: 1.3493\n"
     ]
    },
    {
     "name": "stderr",
     "output_type": "stream",
     "text": [
      "                                                                                  \r"
     ]
    },
    {
     "name": "stdout",
     "output_type": "stream",
     "text": [
      "Epoch 7/20 | Train Acc: 0.9167, Loss: 0.2440 | Val Acc: 0.6500, Loss: 1.2316\n"
     ]
    },
    {
     "name": "stderr",
     "output_type": "stream",
     "text": [
      "                                                                                  \r"
     ]
    },
    {
     "name": "stdout",
     "output_type": "stream",
     "text": [
      "Epoch 8/20 | Train Acc: 0.9458, Loss: 0.1582 | Val Acc: 0.6375, Loss: 1.4331\n"
     ]
    },
    {
     "name": "stderr",
     "output_type": "stream",
     "text": [
      "                                                                                  \r"
     ]
    },
    {
     "name": "stdout",
     "output_type": "stream",
     "text": [
      "Epoch 9/20 | Train Acc: 0.9625, Loss: 0.1324 | Val Acc: 0.6500, Loss: 1.4904\n"
     ]
    },
    {
     "name": "stderr",
     "output_type": "stream",
     "text": [
      "                                                                                   \r"
     ]
    },
    {
     "name": "stdout",
     "output_type": "stream",
     "text": [
      "Epoch 10/20 | Train Acc: 0.9750, Loss: 0.1031 | Val Acc: 0.6625, Loss: 1.2995\n"
     ]
    },
    {
     "name": "stderr",
     "output_type": "stream",
     "text": [
      "                                                                                    \r"
     ]
    },
    {
     "name": "stdout",
     "output_type": "stream",
     "text": [
      "Epoch 11/20 | Train Acc: 0.9792, Loss: 0.0756 | Val Acc: 0.6500, Loss: 1.3864\n"
     ]
    },
    {
     "name": "stderr",
     "output_type": "stream",
     "text": [
      "                                                                                   \r"
     ]
    },
    {
     "name": "stdout",
     "output_type": "stream",
     "text": [
      "Epoch 12/20 | Train Acc: 0.9667, Loss: 0.0941 | Val Acc: 0.6000, Loss: 1.6596\n"
     ]
    },
    {
     "name": "stderr",
     "output_type": "stream",
     "text": [
      "                                                                                    \r"
     ]
    },
    {
     "name": "stdout",
     "output_type": "stream",
     "text": [
      "Epoch 13/20 | Train Acc: 0.9250, Loss: 0.1882 | Val Acc: 0.5625, Loss: 1.8988\n"
     ]
    },
    {
     "name": "stderr",
     "output_type": "stream",
     "text": [
      "                                                                                   \r"
     ]
    },
    {
     "name": "stdout",
     "output_type": "stream",
     "text": [
      "Epoch 14/20 | Train Acc: 0.9500, Loss: 0.1437 | Val Acc: 0.5875, Loss: 1.5551\n"
     ]
    },
    {
     "name": "stderr",
     "output_type": "stream",
     "text": [
      "                                                                                   \r"
     ]
    },
    {
     "name": "stdout",
     "output_type": "stream",
     "text": [
      "Epoch 15/20 | Train Acc: 0.9792, Loss: 0.0778 | Val Acc: 0.6125, Loss: 1.3163\n"
     ]
    },
    {
     "name": "stderr",
     "output_type": "stream",
     "text": [
      "                                                                                    \r"
     ]
    },
    {
     "name": "stdout",
     "output_type": "stream",
     "text": [
      "Epoch 16/20 | Train Acc: 0.9917, Loss: 0.0335 | Val Acc: 0.6500, Loss: 1.2190\n"
     ]
    },
    {
     "name": "stderr",
     "output_type": "stream",
     "text": [
      "                                                                                    \r"
     ]
    },
    {
     "name": "stdout",
     "output_type": "stream",
     "text": [
      "Epoch 17/20 | Train Acc: 0.9958, Loss: 0.0123 | Val Acc: 0.6500, Loss: 1.4784\n"
     ]
    },
    {
     "name": "stderr",
     "output_type": "stream",
     "text": [
      "                                                                                    \r"
     ]
    },
    {
     "name": "stdout",
     "output_type": "stream",
     "text": [
      "Epoch 18/20 | Train Acc: 1.0000, Loss: 0.0065 | Val Acc: 0.6375, Loss: 1.4318\n"
     ]
    },
    {
     "name": "stderr",
     "output_type": "stream",
     "text": [
      "                                                                                     \r"
     ]
    },
    {
     "name": "stdout",
     "output_type": "stream",
     "text": [
      "Epoch 19/20 | Train Acc: 1.0000, Loss: 0.0067 | Val Acc: 0.6500, Loss: 1.6713\n"
     ]
    },
    {
     "name": "stderr",
     "output_type": "stream",
     "text": [
      "                                                                                    \r"
     ]
    },
    {
     "name": "stdout",
     "output_type": "stream",
     "text": [
      "Epoch 20/20 | Train Acc: 1.0000, Loss: 0.0078 | Val Acc: 0.6625, Loss: 1.6037\n"
     ]
    },
    {
     "data": {
      "image/png": "[encoded data removed]",
      "text/plain": [
       "<Figure size 1400x500 with 2 Axes>"
      ]
     },
     "metadata": {},
     "output_type": "display_data"
    }
   ],
   "source": [
    "results = []\n",
    "for opt in ['SGD', 'SGD+Momentum', 'RMSprop', 'Adam']:\n",
    "    result = run_training(opt, ESC10CNN, train_loader, val_loader, test_loader, device)\n",
    "    results.append(result)\n",
    "plot_all_results(results)\n"
   ]
  },
  {
   "cell_type": "code",
   "execution_count": 42,
   "id": "50c51017",
   "metadata": {},
   "outputs": [
    {
     "name": "stdout",
     "output_type": "stream",
     "text": [
      "SGD Test Accuracy: 0.5500\n",
      "SGD+Momentum Test Accuracy: 0.5875\n",
      "RMSprop Test Accuracy: 0.7250\n",
      "Adam Test Accuracy: 0.6125\n"
     ]
    }
   ],
   "source": [
    "\n",
    "for res in results:\n",
    "    print(f\"{res['optimizer']} Test Accuracy: {res['test_acc']:.4f}\")\n"
   ]
  },
  {
   "cell_type": "markdown",
   "id": "9b0c4197",
   "metadata": {},
   "source": [
    "# Norm comparison (3b)"
   ]
  },
  {
   "cell_type": "code",
   "execution_count": 126,
   "id": "671dfd58",
   "metadata": {},
   "outputs": [
    {
     "name": "stdout",
     "output_type": "stream",
     "text": [
      "\n",
      "==== Training model with none normalization ====\n",
      "\n"
     ]
    },
    {
     "name": "stderr",
     "output_type": "stream",
     "text": [
      "                                                                                 \r"
     ]
    },
    {
     "name": "stdout",
     "output_type": "stream",
     "text": [
      "Epoch 1/20 | Train Acc: 0.1833, Loss: 2.1832 | Val Acc: 0.4500, Loss: 1.7948\n"
     ]
    },
    {
     "name": "stderr",
     "output_type": "stream",
     "text": [
      "                                                                                 \r"
     ]
    },
    {
     "name": "stdout",
     "output_type": "stream",
     "text": [
      "Epoch 2/20 | Train Acc: 0.5458, Loss: 1.3471 | Val Acc: 0.4125, Loss: 1.5984\n"
     ]
    },
    {
     "name": "stderr",
     "output_type": "stream",
     "text": [
      "                                                                                 \r"
     ]
    },
    {
     "name": "stdout",
     "output_type": "stream",
     "text": [
      "Epoch 3/20 | Train Acc: 0.6542, Loss: 0.8617 | Val Acc: 0.6750, Loss: 1.2776\n"
     ]
    },
    {
     "name": "stderr",
     "output_type": "stream",
     "text": [
      "                                                                                 \r"
     ]
    },
    {
     "name": "stdout",
     "output_type": "stream",
     "text": [
      "Epoch 4/20 | Train Acc: 0.8333, Loss: 0.5392 | Val Acc: 0.5375, Loss: 1.7120\n"
     ]
    },
    {
     "name": "stderr",
     "output_type": "stream",
     "text": [
      "                                                                                 \r"
     ]
    },
    {
     "name": "stdout",
     "output_type": "stream",
     "text": [
      "Epoch 5/20 | Train Acc: 0.8250, Loss: 0.4818 | Val Acc: 0.6125, Loss: 1.4668\n"
     ]
    },
    {
     "name": "stderr",
     "output_type": "stream",
     "text": [
      "                                                                                 \r"
     ]
    },
    {
     "name": "stdout",
     "output_type": "stream",
     "text": [
      "Epoch 6/20 | Train Acc: 0.8583, Loss: 0.4345 | Val Acc: 0.6250, Loss: 1.3778\n"
     ]
    },
    {
     "name": "stderr",
     "output_type": "stream",
     "text": [
      "                                                                                 \r"
     ]
    },
    {
     "name": "stdout",
     "output_type": "stream",
     "text": [
      "Epoch 7/20 | Train Acc: 0.8792, Loss: 0.3795 | Val Acc: 0.6500, Loss: 1.2760\n"
     ]
    },
    {
     "name": "stderr",
     "output_type": "stream",
     "text": [
      "                                                                                  \r"
     ]
    },
    {
     "name": "stdout",
     "output_type": "stream",
     "text": [
      "Epoch 8/20 | Train Acc: 0.9125, Loss: 0.2495 | Val Acc: 0.5750, Loss: 1.4756\n"
     ]
    },
    {
     "name": "stderr",
     "output_type": "stream",
     "text": [
      "                                                                                  \r"
     ]
    },
    {
     "name": "stdout",
     "output_type": "stream",
     "text": [
      "Epoch 9/20 | Train Acc: 0.9583, Loss: 0.1729 | Val Acc: 0.7125, Loss: 1.3694\n"
     ]
    },
    {
     "name": "stderr",
     "output_type": "stream",
     "text": [
      "                                                                                   \r"
     ]
    },
    {
     "name": "stdout",
     "output_type": "stream",
     "text": [
      "Epoch 10/20 | Train Acc: 0.9625, Loss: 0.1371 | Val Acc: 0.6375, Loss: 1.4187\n"
     ]
    },
    {
     "name": "stderr",
     "output_type": "stream",
     "text": [
      "                                                                                   \r"
     ]
    },
    {
     "name": "stdout",
     "output_type": "stream",
     "text": [
      "Epoch 11/20 | Train Acc: 0.9583, Loss: 0.1582 | Val Acc: 0.6000, Loss: 1.7635\n"
     ]
    },
    {
     "name": "stderr",
     "output_type": "stream",
     "text": [
      "                                                                                   \r"
     ]
    },
    {
     "name": "stdout",
     "output_type": "stream",
     "text": [
      "Epoch 12/20 | Train Acc: 0.9333, Loss: 0.1628 | Val Acc: 0.7500, Loss: 1.1743\n"
     ]
    },
    {
     "name": "stderr",
     "output_type": "stream",
     "text": [
      "                                                                                   \r"
     ]
    },
    {
     "name": "stdout",
     "output_type": "stream",
     "text": [
      "Epoch 13/20 | Train Acc: 0.9833, Loss: 0.0744 | Val Acc: 0.6375, Loss: 1.3189\n"
     ]
    },
    {
     "name": "stderr",
     "output_type": "stream",
     "text": [
      "                                                                                   \r"
     ]
    },
    {
     "name": "stdout",
     "output_type": "stream",
     "text": [
      "Epoch 14/20 | Train Acc: 0.9792, Loss: 0.0848 | Val Acc: 0.7250, Loss: 1.2303\n"
     ]
    },
    {
     "name": "stderr",
     "output_type": "stream",
     "text": [
      "                                                                                   \r"
     ]
    },
    {
     "name": "stdout",
     "output_type": "stream",
     "text": [
      "Epoch 15/20 | Train Acc: 0.9958, Loss: 0.0345 | Val Acc: 0.7125, Loss: 1.4171\n"
     ]
    },
    {
     "name": "stderr",
     "output_type": "stream",
     "text": [
      "                                                                                    \r"
     ]
    },
    {
     "name": "stdout",
     "output_type": "stream",
     "text": [
      "Epoch 16/20 | Train Acc: 0.9917, Loss: 0.0353 | Val Acc: 0.7125, Loss: 1.4283\n"
     ]
    },
    {
     "name": "stderr",
     "output_type": "stream",
     "text": [
      "                                                                                    \r"
     ]
    },
    {
     "name": "stdout",
     "output_type": "stream",
     "text": [
      "Epoch 17/20 | Train Acc: 0.9958, Loss: 0.0307 | Val Acc: 0.7250, Loss: 1.4031\n"
     ]
    },
    {
     "name": "stderr",
     "output_type": "stream",
     "text": [
      "                                                                                    \r"
     ]
    },
    {
     "name": "stdout",
     "output_type": "stream",
     "text": [
      "Epoch 18/20 | Train Acc: 1.0000, Loss: 0.0133 | Val Acc: 0.7375, Loss: 1.3561\n"
     ]
    },
    {
     "name": "stderr",
     "output_type": "stream",
     "text": [
      "                                                                                    \r"
     ]
    },
    {
     "name": "stdout",
     "output_type": "stream",
     "text": [
      "Epoch 19/20 | Train Acc: 1.0000, Loss: 0.0098 | Val Acc: 0.7375, Loss: 1.5835\n"
     ]
    },
    {
     "name": "stderr",
     "output_type": "stream",
     "text": [
      "                                                                                    \r"
     ]
    },
    {
     "name": "stdout",
     "output_type": "stream",
     "text": [
      "Epoch 20/20 | Train Acc: 0.9958, Loss: 0.0222 | Val Acc: 0.7500, Loss: 1.4198\n",
      "\n",
      "==== Training model with layer normalization ====\n",
      "\n"
     ]
    },
    {
     "name": "stderr",
     "output_type": "stream",
     "text": [
      "                                                                                \r"
     ]
    },
    {
     "name": "stdout",
     "output_type": "stream",
     "text": [
      "Epoch 1/20 | Train Acc: 0.2917, Loss: 2.2133 | Val Acc: 0.3750, Loss: 1.8988\n"
     ]
    },
    {
     "name": "stderr",
     "output_type": "stream",
     "text": [
      "                                                                                 \r"
     ]
    },
    {
     "name": "stdout",
     "output_type": "stream",
     "text": [
      "Epoch 2/20 | Train Acc: 0.6208, Loss: 1.1281 | Val Acc: 0.5500, Loss: 1.2451\n"
     ]
    },
    {
     "name": "stderr",
     "output_type": "stream",
     "text": [
      "                                                                                 \r"
     ]
    },
    {
     "name": "stdout",
     "output_type": "stream",
     "text": [
      "Epoch 3/20 | Train Acc: 0.7792, Loss: 0.6288 | Val Acc: 0.5250, Loss: 1.3481\n"
     ]
    },
    {
     "name": "stderr",
     "output_type": "stream",
     "text": [
      "                                                                                  \r"
     ]
    },
    {
     "name": "stdout",
     "output_type": "stream",
     "text": [
      "Epoch 4/20 | Train Acc: 0.8417, Loss: 0.4551 | Val Acc: 0.5875, Loss: 1.2504\n"
     ]
    },
    {
     "name": "stderr",
     "output_type": "stream",
     "text": [
      "                                                                                  \r"
     ]
    },
    {
     "name": "stdout",
     "output_type": "stream",
     "text": [
      "Epoch 5/20 | Train Acc: 0.9042, Loss: 0.3124 | Val Acc: 0.6125, Loss: 1.3433\n"
     ]
    },
    {
     "name": "stderr",
     "output_type": "stream",
     "text": [
      "                                                                                  \r"
     ]
    },
    {
     "name": "stdout",
     "output_type": "stream",
     "text": [
      "Epoch 6/20 | Train Acc: 0.9208, Loss: 0.2400 | Val Acc: 0.6375, Loss: 1.3468\n"
     ]
    },
    {
     "name": "stderr",
     "output_type": "stream",
     "text": [
      "                                                                                  \r"
     ]
    },
    {
     "name": "stdout",
     "output_type": "stream",
     "text": [
      "Epoch 7/20 | Train Acc: 0.9375, Loss: 0.1720 | Val Acc: 0.6125, Loss: 1.3077\n"
     ]
    },
    {
     "name": "stderr",
     "output_type": "stream",
     "text": [
      "                                                                                  \r"
     ]
    },
    {
     "name": "stdout",
     "output_type": "stream",
     "text": [
      "Epoch 8/20 | Train Acc: 0.9375, Loss: 0.1836 | Val Acc: 0.6875, Loss: 1.3601\n"
     ]
    },
    {
     "name": "stderr",
     "output_type": "stream",
     "text": [
      "                                                                                  \r"
     ]
    },
    {
     "name": "stdout",
     "output_type": "stream",
     "text": [
      "Epoch 9/20 | Train Acc: 0.9542, Loss: 0.1412 | Val Acc: 0.6500, Loss: 1.2589\n"
     ]
    },
    {
     "name": "stderr",
     "output_type": "stream",
     "text": [
      "                                                                                   \r"
     ]
    },
    {
     "name": "stdout",
     "output_type": "stream",
     "text": [
      "Epoch 10/20 | Train Acc: 0.9750, Loss: 0.0793 | Val Acc: 0.6875, Loss: 1.4639\n"
     ]
    },
    {
     "name": "stderr",
     "output_type": "stream",
     "text": [
      "                                                                                   \r"
     ]
    },
    {
     "name": "stdout",
     "output_type": "stream",
     "text": [
      "Epoch 11/20 | Train Acc: 0.9542, Loss: 0.1263 | Val Acc: 0.7250, Loss: 1.2085\n"
     ]
    },
    {
     "name": "stderr",
     "output_type": "stream",
     "text": [
      "                                                                                    \r"
     ]
    },
    {
     "name": "stdout",
     "output_type": "stream",
     "text": [
      "Epoch 12/20 | Train Acc: 0.9625, Loss: 0.0785 | Val Acc: 0.6375, Loss: 1.4044\n"
     ]
    },
    {
     "name": "stderr",
     "output_type": "stream",
     "text": [
      "                                                                                    \r"
     ]
    },
    {
     "name": "stdout",
     "output_type": "stream",
     "text": [
      "Epoch 13/20 | Train Acc: 0.9833, Loss: 0.0574 | Val Acc: 0.6750, Loss: 1.2956\n"
     ]
    },
    {
     "name": "stderr",
     "output_type": "stream",
     "text": [
      "                                                                                    \r"
     ]
    },
    {
     "name": "stdout",
     "output_type": "stream",
     "text": [
      "Epoch 14/20 | Train Acc: 0.9833, Loss: 0.0569 | Val Acc: 0.6500, Loss: 1.5254\n"
     ]
    },
    {
     "name": "stderr",
     "output_type": "stream",
     "text": [
      "                                                                                    \r"
     ]
    },
    {
     "name": "stdout",
     "output_type": "stream",
     "text": [
      "Epoch 15/20 | Train Acc: 0.9958, Loss: 0.0198 | Val Acc: 0.7375, Loss: 1.2717\n"
     ]
    },
    {
     "name": "stderr",
     "output_type": "stream",
     "text": [
      "                                                                                     \r"
     ]
    },
    {
     "name": "stdout",
     "output_type": "stream",
     "text": [
      "Epoch 16/20 | Train Acc: 0.9875, Loss: 0.0338 | Val Acc: 0.7500, Loss: 1.1554\n"
     ]
    },
    {
     "name": "stderr",
     "output_type": "stream",
     "text": [
      "                                                                                    \r"
     ]
    },
    {
     "name": "stdout",
     "output_type": "stream",
     "text": [
      "Epoch 17/20 | Train Acc: 0.9958, Loss: 0.0121 | Val Acc: 0.7250, Loss: 1.1752\n"
     ]
    },
    {
     "name": "stderr",
     "output_type": "stream",
     "text": [
      "                                                                                    \r"
     ]
    },
    {
     "name": "stdout",
     "output_type": "stream",
     "text": [
      "Epoch 18/20 | Train Acc: 0.9958, Loss: 0.0293 | Val Acc: 0.6375, Loss: 1.4555\n"
     ]
    },
    {
     "name": "stderr",
     "output_type": "stream",
     "text": [
      "                                                                                     \r"
     ]
    },
    {
     "name": "stdout",
     "output_type": "stream",
     "text": [
      "Epoch 19/20 | Train Acc: 0.9958, Loss: 0.0222 | Val Acc: 0.6750, Loss: 1.3619\n"
     ]
    },
    {
     "name": "stderr",
     "output_type": "stream",
     "text": [
      "                                                                                    \r"
     ]
    },
    {
     "name": "stdout",
     "output_type": "stream",
     "text": [
      "Epoch 20/20 | Train Acc: 0.9958, Loss: 0.0149 | Val Acc: 0.6875, Loss: 1.6298\n",
      "\n",
      "==== Training model with batch normalization ====\n",
      "\n"
     ]
    },
    {
     "name": "stderr",
     "output_type": "stream",
     "text": [
      "                                                                                 \r"
     ]
    },
    {
     "name": "stdout",
     "output_type": "stream",
     "text": [
      "Epoch 1/20 | Train Acc: 0.4042, Loss: 1.7598 | Val Acc: 0.4500, Loss: 1.6601\n"
     ]
    },
    {
     "name": "stderr",
     "output_type": "stream",
     "text": [
      "                                                                                 \r"
     ]
    },
    {
     "name": "stdout",
     "output_type": "stream",
     "text": [
      "Epoch 2/20 | Train Acc: 0.7917, Loss: 0.6400 | Val Acc: 0.6375, Loss: 1.1892\n"
     ]
    },
    {
     "name": "stderr",
     "output_type": "stream",
     "text": [
      "                                                                                  \r"
     ]
    },
    {
     "name": "stdout",
     "output_type": "stream",
     "text": [
      "Epoch 3/20 | Train Acc: 0.9083, Loss: 0.3115 | Val Acc: 0.5625, Loss: 1.4790\n"
     ]
    },
    {
     "name": "stderr",
     "output_type": "stream",
     "text": [
      "                                                                                 \r"
     ]
    },
    {
     "name": "stdout",
     "output_type": "stream",
     "text": [
      "Epoch 4/20 | Train Acc: 0.9125, Loss: 0.2980 | Val Acc: 0.6250, Loss: 1.5859\n"
     ]
    },
    {
     "name": "stderr",
     "output_type": "stream",
     "text": [
      "                                                                                  \r"
     ]
    },
    {
     "name": "stdout",
     "output_type": "stream",
     "text": [
      "Epoch 5/20 | Train Acc: 0.9542, Loss: 0.1527 | Val Acc: 0.6375, Loss: 1.6796\n"
     ]
    },
    {
     "name": "stderr",
     "output_type": "stream",
     "text": [
      "                                                                                  \r"
     ]
    },
    {
     "name": "stdout",
     "output_type": "stream",
     "text": [
      "Epoch 6/20 | Train Acc: 0.9750, Loss: 0.0988 | Val Acc: 0.6375, Loss: 1.6239\n"
     ]
    },
    {
     "name": "stderr",
     "output_type": "stream",
     "text": [
      "                                                                                   \r"
     ]
    },
    {
     "name": "stdout",
     "output_type": "stream",
     "text": [
      "Epoch 7/20 | Train Acc: 0.9750, Loss: 0.0589 | Val Acc: 0.6000, Loss: 2.0308\n"
     ]
    },
    {
     "name": "stderr",
     "output_type": "stream",
     "text": [
      "                                                                                   \r"
     ]
    },
    {
     "name": "stdout",
     "output_type": "stream",
     "text": [
      "Epoch 8/20 | Train Acc: 0.9917, Loss: 0.0354 | Val Acc: 0.6375, Loss: 1.9594\n"
     ]
    },
    {
     "name": "stderr",
     "output_type": "stream",
     "text": [
      "                                                                                    \r"
     ]
    },
    {
     "name": "stdout",
     "output_type": "stream",
     "text": [
      "Epoch 9/20 | Train Acc: 0.9958, Loss: 0.0258 | Val Acc: 0.5250, Loss: 2.4261\n"
     ]
    },
    {
     "name": "stderr",
     "output_type": "stream",
     "text": [
      "                                                                                    \r"
     ]
    },
    {
     "name": "stdout",
     "output_type": "stream",
     "text": [
      "Epoch 10/20 | Train Acc: 0.9667, Loss: 0.0865 | Val Acc: 0.6250, Loss: 1.8421\n"
     ]
    },
    {
     "name": "stderr",
     "output_type": "stream",
     "text": [
      "                                                                                   \r"
     ]
    },
    {
     "name": "stdout",
     "output_type": "stream",
     "text": [
      "Epoch 11/20 | Train Acc: 0.9833, Loss: 0.0461 | Val Acc: 0.6125, Loss: 1.7972\n"
     ]
    },
    {
     "name": "stderr",
     "output_type": "stream",
     "text": [
      "                                                                                    \r"
     ]
    },
    {
     "name": "stdout",
     "output_type": "stream",
     "text": [
      "Epoch 12/20 | Train Acc: 0.9833, Loss: 0.0698 | Val Acc: 0.5500, Loss: 2.1104\n"
     ]
    },
    {
     "name": "stderr",
     "output_type": "stream",
     "text": [
      "                                                                                    \r"
     ]
    },
    {
     "name": "stdout",
     "output_type": "stream",
     "text": [
      "Epoch 13/20 | Train Acc: 0.9958, Loss: 0.0233 | Val Acc: 0.6250, Loss: 1.8566\n"
     ]
    },
    {
     "name": "stderr",
     "output_type": "stream",
     "text": [
      "                                                                                    \r"
     ]
    },
    {
     "name": "stdout",
     "output_type": "stream",
     "text": [
      "Epoch 14/20 | Train Acc: 0.9875, Loss: 0.0311 | Val Acc: 0.6750, Loss: 1.8285\n"
     ]
    },
    {
     "name": "stderr",
     "output_type": "stream",
     "text": [
      "                                                                                    \r"
     ]
    },
    {
     "name": "stdout",
     "output_type": "stream",
     "text": [
      "Epoch 15/20 | Train Acc: 0.9875, Loss: 0.0282 | Val Acc: 0.6250, Loss: 2.0634\n"
     ]
    },
    {
     "name": "stderr",
     "output_type": "stream",
     "text": [
      "                                                                                    \r"
     ]
    },
    {
     "name": "stdout",
     "output_type": "stream",
     "text": [
      "Epoch 16/20 | Train Acc: 0.9958, Loss: 0.0190 | Val Acc: 0.7125, Loss: 1.6750\n"
     ]
    },
    {
     "name": "stderr",
     "output_type": "stream",
     "text": [
      "                                                                                     \r"
     ]
    },
    {
     "name": "stdout",
     "output_type": "stream",
     "text": [
      "Epoch 17/20 | Train Acc: 1.0000, Loss: 0.0070 | Val Acc: 0.7125, Loss: 1.7993\n"
     ]
    },
    {
     "name": "stderr",
     "output_type": "stream",
     "text": [
      "                                                                                     \r"
     ]
    },
    {
     "name": "stdout",
     "output_type": "stream",
     "text": [
      "Epoch 18/20 | Train Acc: 1.0000, Loss: 0.0046 | Val Acc: 0.6625, Loss: 1.8731\n"
     ]
    },
    {
     "name": "stderr",
     "output_type": "stream",
     "text": [
      "                                                                                     \r"
     ]
    },
    {
     "name": "stdout",
     "output_type": "stream",
     "text": [
      "Epoch 19/20 | Train Acc: 0.9958, Loss: 0.0217 | Val Acc: 0.5875, Loss: 2.2318\n"
     ]
    },
    {
     "name": "stderr",
     "output_type": "stream",
     "text": [
      "                                                                                     "
     ]
    },
    {
     "name": "stdout",
     "output_type": "stream",
     "text": [
      "Epoch 20/20 | Train Acc: 0.9917, Loss: 0.0462 | Val Acc: 0.5875, Loss: 2.1076\n"
     ]
    },
    {
     "name": "stderr",
     "output_type": "stream",
     "text": [
      "\r"
     ]
    }
   ],
   "source": [
    "norm_types = ['none', 'layer', 'batch']\n",
    "all_losses = {}\n",
    "\n",
    "for norm in norm_types:\n",
    "    print(f\"\\n==== Training model with {norm} normalization ====\\n\")\n",
    "    \n",
    "    model = ESC10CNN(norm_type=norm).to(device)\n",
    "    criterion = nn.CrossEntropyLoss()\n",
    "    optimizer = torch.optim.Adam(model.parameters(), lr=1e-3)\n",
    "    \n",
    "    train_accs, val_accs, train_losses, val_losses = train_model(\n",
    "        model, train_loader, val_loader,\n",
    "        criterion, optimizer,\n",
    "        epochs=20,\n",
    "        device=device,\n",
    "        save_path=f\"model_{norm}.pth\"\n",
    "    )\n",
    "    \n",
    "    all_losses[norm] = {\n",
    "        'train_loss': train_losses,\n",
    "        'val_loss': val_losses,\n",
    "        'val_acc': val_accs\n",
    "    }\n"
   ]
  },
  {
   "cell_type": "code",
   "execution_count": 127,
   "id": "7f04d542",
   "metadata": {},
   "outputs": [
    {
     "data": {
      "image/png": "[encoded data removed]",
      "text/plain": [
       "<Figure size 1200x600 with 1 Axes>"
      ]
     },
     "metadata": {},
     "output_type": "display_data"
    }
   ],
   "source": [
    "import matplotlib.pyplot as plt\n",
    "\n",
    "def plot_losses(all_losses):\n",
    "    plt.figure(figsize=(12, 6))\n",
    "    for norm, losses in all_losses.items():\n",
    "        plt.plot(losses['train_loss'], label=f\"{norm} - train\")\n",
    "        plt.plot(losses['val_loss'], label=f\"{norm} - val\")\n",
    "    plt.xlabel(\"Epochs\")\n",
    "    plt.ylabel(\"Loss\")\n",
    "    plt.title(\"Training vs Validation Loss for Different Normalizations\")\n",
    "    plt.legend()\n",
    "    plt.grid(True)\n",
    "    plt.show()\n",
    "\n",
    "plot_losses(all_losses)\n"
   ]
  },
  {
   "cell_type": "code",
   "execution_count": 128,
   "id": "006976e4",
   "metadata": {},
   "outputs": [
    {
     "name": "stderr",
     "output_type": "stream",
     "text": [
      "/tmp/ipykernel_1341202/2185713222.py:3: FutureWarning: You are using `torch.load` with `weights_only=False` (the current default value), which uses the default pickle module implicitly. It is possible to construct malicious pickle data which will execute arbitrary code during unpickling (See https://github.com/pytorch/pytorch/blob/main/SECURITY.md#untrusted-models for more details). In a future release, the default value for `weights_only` will be flipped to `True`. This limits the functions that could be executed during unpickling. Arbitrary objects will no longer be allowed to be loaded via this mode unless they are explicitly allowlisted by the user via `torch.serialization.add_safe_globals`. We recommend you start setting `weights_only=True` for any use case where you don't have full control of the loaded file. Please open an issue on GitHub for any issues related to this experimental feature.\n",
      "  model.load_state_dict(torch.load(f\"model_{norm}.pth\"))\n"
     ]
    },
    {
     "name": "stdout",
     "output_type": "stream",
     "text": [
      "Test accuracy for none normalization:\n",
      "Test Accuracy: 0.7500\n",
      "Test accuracy for layer normalization:\n",
      "Test Accuracy: 0.7875\n",
      "Test accuracy for batch normalization:\n",
      "Test Accuracy: 0.6875\n"
     ]
    }
   ],
   "source": [
    "for norm in norm_types:\n",
    "    model = ESC10CNN(norm_type=norm).to(device)\n",
    "    model.load_state_dict(torch.load(f\"model_{norm}.pth\"))\n",
    "    print(f\"Test accuracy for {norm} normalization:\")\n",
    "    evaluate_model(model, test_loader)\n"
   ]
  },
  {
   "cell_type": "markdown",
   "id": "a9f365f4",
   "metadata": {},
   "source": [
    "# Ensembling (Q3c)"
   ]
  },
  {
   "cell_type": "code",
   "execution_count": 112,
   "id": "25dd29d4",
   "metadata": {},
   "outputs": [],
   "source": [
    "configs = [\n",
    "    {\"name\": \"model_sgd\", \"optimizer\": \"sgd\", \"norm\": \"none\"},\n",
    "    {\"name\": \"model_rmsprop\", \"optimizer\": \"rmsprop\", \"norm\": \"layer\"},\n",
    "    {\"name\": \"model_adam\", \"optimizer\": \"adam\", \"norm\": \"batch\"},\n",
    "]\n",
    "\n",
    "all_models = {}\n",
    "val_outputs = []\n",
    "val_labels = None\n"
   ]
  },
  {
   "cell_type": "code",
   "execution_count": 113,
   "id": "3f2afd97",
   "metadata": {},
   "outputs": [
    {
     "name": "stdout",
     "output_type": "stream",
     "text": [
      "\n",
      "Training model_sgd with sgd and none norm\n",
      "\n"
     ]
    },
    {
     "name": "stderr",
     "output_type": "stream",
     "text": [
      "                                                                                 \r"
     ]
    },
    {
     "name": "stdout",
     "output_type": "stream",
     "text": [
      "Epoch 1/20 | Train Acc: 0.1417, Loss: 2.2921 | Val Acc: 0.2125, Loss: 2.2685\n"
     ]
    },
    {
     "name": "stderr",
     "output_type": "stream",
     "text": [
      "                                                                                \r"
     ]
    },
    {
     "name": "stdout",
     "output_type": "stream",
     "text": [
      "Epoch 2/20 | Train Acc: 0.2958, Loss: 2.2444 | Val Acc: 0.3500, Loss: 2.2149\n"
     ]
    },
    {
     "name": "stderr",
     "output_type": "stream",
     "text": [
      "                                                                                \r"
     ]
    },
    {
     "name": "stdout",
     "output_type": "stream",
     "text": [
      "Epoch 3/20 | Train Acc: 0.3792, Loss: 2.1693 | Val Acc: 0.3875, Loss: 2.1309\n"
     ]
    },
    {
     "name": "stderr",
     "output_type": "stream",
     "text": [
      "                                                                                \r"
     ]
    },
    {
     "name": "stdout",
     "output_type": "stream",
     "text": [
      "Epoch 4/20 | Train Acc: 0.4083, Loss: 2.0432 | Val Acc: 0.4250, Loss: 1.9846\n"
     ]
    },
    {
     "name": "stderr",
     "output_type": "stream",
     "text": [
      "                                                                                \r"
     ]
    },
    {
     "name": "stdout",
     "output_type": "stream",
     "text": [
      "Epoch 5/20 | Train Acc: 0.4417, Loss: 1.8385 | Val Acc: 0.5125, Loss: 1.7471\n"
     ]
    },
    {
     "name": "stderr",
     "output_type": "stream",
     "text": [
      "                                                                                \r"
     ]
    },
    {
     "name": "stdout",
     "output_type": "stream",
     "text": [
      "Epoch 6/20 | Train Acc: 0.4625, Loss: 1.5543 | Val Acc: 0.5000, Loss: 1.5406\n"
     ]
    },
    {
     "name": "stderr",
     "output_type": "stream",
     "text": [
      "                                                                                 \r"
     ]
    },
    {
     "name": "stdout",
     "output_type": "stream",
     "text": [
      "Epoch 7/20 | Train Acc: 0.5542, Loss: 1.3066 | Val Acc: 0.4625, Loss: 1.4388\n"
     ]
    },
    {
     "name": "stderr",
     "output_type": "stream",
     "text": [
      "                                                                                 \r"
     ]
    },
    {
     "name": "stdout",
     "output_type": "stream",
     "text": [
      "Epoch 8/20 | Train Acc: 0.6125, Loss: 1.1098 | Val Acc: 0.4750, Loss: 1.2994\n"
     ]
    },
    {
     "name": "stderr",
     "output_type": "stream",
     "text": [
      "                                                                                 \r"
     ]
    },
    {
     "name": "stdout",
     "output_type": "stream",
     "text": [
      "Epoch 9/20 | Train Acc: 0.5583, Loss: 1.2050 | Val Acc: 0.5375, Loss: 1.2570\n"
     ]
    },
    {
     "name": "stderr",
     "output_type": "stream",
     "text": [
      "                                                                                  \r"
     ]
    },
    {
     "name": "stdout",
     "output_type": "stream",
     "text": [
      "Epoch 10/20 | Train Acc: 0.6750, Loss: 0.9146 | Val Acc: 0.5375, Loss: 1.2962\n"
     ]
    },
    {
     "name": "stderr",
     "output_type": "stream",
     "text": [
      "                                                                                  \r"
     ]
    },
    {
     "name": "stdout",
     "output_type": "stream",
     "text": [
      "Epoch 11/20 | Train Acc: 0.7333, Loss: 0.8045 | Val Acc: 0.5000, Loss: 1.3511\n"
     ]
    },
    {
     "name": "stderr",
     "output_type": "stream",
     "text": [
      "                                                                                   \r"
     ]
    },
    {
     "name": "stdout",
     "output_type": "stream",
     "text": [
      "Epoch 12/20 | Train Acc: 0.6708, Loss: 0.8794 | Val Acc: 0.5875, Loss: 1.2167\n"
     ]
    },
    {
     "name": "stderr",
     "output_type": "stream",
     "text": [
      "                                                                                  \r"
     ]
    },
    {
     "name": "stdout",
     "output_type": "stream",
     "text": [
      "Epoch 13/20 | Train Acc: 0.7542, Loss: 0.6748 | Val Acc: 0.5000, Loss: 1.4049\n"
     ]
    },
    {
     "name": "stderr",
     "output_type": "stream",
     "text": [
      "                                                                                  \r"
     ]
    },
    {
     "name": "stdout",
     "output_type": "stream",
     "text": [
      "Epoch 14/20 | Train Acc: 0.7625, Loss: 0.6488 | Val Acc: 0.5750, Loss: 1.2100\n"
     ]
    },
    {
     "name": "stderr",
     "output_type": "stream",
     "text": [
      "                                                                                  \r"
     ]
    },
    {
     "name": "stdout",
     "output_type": "stream",
     "text": [
      "Epoch 15/20 | Train Acc: 0.7792, Loss: 0.5899 | Val Acc: 0.5750, Loss: 1.3103\n"
     ]
    },
    {
     "name": "stderr",
     "output_type": "stream",
     "text": [
      "                                                                                  \r"
     ]
    },
    {
     "name": "stdout",
     "output_type": "stream",
     "text": [
      "Epoch 16/20 | Train Acc: 0.7958, Loss: 0.6382 | Val Acc: 0.5000, Loss: 1.3263\n"
     ]
    },
    {
     "name": "stderr",
     "output_type": "stream",
     "text": [
      "                                                                                  \r"
     ]
    },
    {
     "name": "stdout",
     "output_type": "stream",
     "text": [
      "Epoch 17/20 | Train Acc: 0.8500, Loss: 0.4772 | Val Acc: 0.6000, Loss: 1.1983\n"
     ]
    },
    {
     "name": "stderr",
     "output_type": "stream",
     "text": [
      "                                                                                  \r"
     ]
    },
    {
     "name": "stdout",
     "output_type": "stream",
     "text": [
      "Epoch 18/20 | Train Acc: 0.8375, Loss: 0.4543 | Val Acc: 0.6000, Loss: 1.2934\n"
     ]
    },
    {
     "name": "stderr",
     "output_type": "stream",
     "text": [
      "                                                                                  \r"
     ]
    },
    {
     "name": "stdout",
     "output_type": "stream",
     "text": [
      "Epoch 19/20 | Train Acc: 0.8542, Loss: 0.4701 | Val Acc: 0.5625, Loss: 1.3819\n"
     ]
    },
    {
     "name": "stderr",
     "output_type": "stream",
     "text": [
      "/tmp/ipykernel_1341202/1387295052.py:24: FutureWarning: You are using `torch.load` with `weights_only=False` (the current default value), which uses the default pickle module implicitly. It is possible to construct malicious pickle data which will execute arbitrary code during unpickling (See https://github.com/pytorch/pytorch/blob/main/SECURITY.md#untrusted-models for more details). In a future release, the default value for `weights_only` will be flipped to `True`. This limits the functions that could be executed during unpickling. Arbitrary objects will no longer be allowed to be loaded via this mode unless they are explicitly allowlisted by the user via `torch.serialization.add_safe_globals`. We recommend you start setting `weights_only=True` for any use case where you don't have full control of the loaded file. Please open an issue on GitHub for any issues related to this experimental feature.\n",
      "  all_models[config[\"name\"]].load_state_dict(torch.load(f\"{config['name']}.pth\"))\n"
     ]
    },
    {
     "name": "stdout",
     "output_type": "stream",
     "text": [
      "Epoch 20/20 | Train Acc: 0.8542, Loss: 0.4807 | Val Acc: 0.5375, Loss: 1.4408\n",
      "\n",
      "Training model_rmsprop with rmsprop and layer norm\n",
      "\n"
     ]
    },
    {
     "name": "stderr",
     "output_type": "stream",
     "text": [
      "                                                                                \r"
     ]
    },
    {
     "name": "stdout",
     "output_type": "stream",
     "text": [
      "Epoch 1/20 | Train Acc: 0.1458, Loss: 21.6656 | Val Acc: 0.1375, Loss: 2.6531\n"
     ]
    },
    {
     "name": "stderr",
     "output_type": "stream",
     "text": [
      "                                                                                 \r"
     ]
    },
    {
     "name": "stdout",
     "output_type": "stream",
     "text": [
      "Epoch 2/20 | Train Acc: 0.2958, Loss: 1.9472 | Val Acc: 0.3375, Loss: 1.8416\n"
     ]
    },
    {
     "name": "stderr",
     "output_type": "stream",
     "text": [
      "                                                                                 \r"
     ]
    },
    {
     "name": "stdout",
     "output_type": "stream",
     "text": [
      "Epoch 3/20 | Train Acc: 0.3833, Loss: 1.6241 | Val Acc: 0.3500, Loss: 1.7607\n"
     ]
    },
    {
     "name": "stderr",
     "output_type": "stream",
     "text": [
      "                                                                                 \r"
     ]
    },
    {
     "name": "stdout",
     "output_type": "stream",
     "text": [
      "Epoch 4/20 | Train Acc: 0.4625, Loss: 1.3757 | Val Acc: 0.4375, Loss: 1.6849\n"
     ]
    },
    {
     "name": "stderr",
     "output_type": "stream",
     "text": [
      "                                                                                 \r"
     ]
    },
    {
     "name": "stdout",
     "output_type": "stream",
     "text": [
      "Epoch 5/20 | Train Acc: 0.5292, Loss: 1.2131 | Val Acc: 0.4250, Loss: 1.7274\n"
     ]
    },
    {
     "name": "stderr",
     "output_type": "stream",
     "text": [
      "                                                                                 \r"
     ]
    },
    {
     "name": "stdout",
     "output_type": "stream",
     "text": [
      "Epoch 6/20 | Train Acc: 0.5583, Loss: 1.1438 | Val Acc: 0.4250, Loss: 1.6844\n"
     ]
    },
    {
     "name": "stderr",
     "output_type": "stream",
     "text": [
      "                                                                                 \r"
     ]
    },
    {
     "name": "stdout",
     "output_type": "stream",
     "text": [
      "Epoch 7/20 | Train Acc: 0.5500, Loss: 1.1520 | Val Acc: 0.5000, Loss: 1.7381\n"
     ]
    },
    {
     "name": "stderr",
     "output_type": "stream",
     "text": [
      "                                                                                  \r"
     ]
    },
    {
     "name": "stdout",
     "output_type": "stream",
     "text": [
      "Epoch 8/20 | Train Acc: 0.7083, Loss: 0.8183 | Val Acc: 0.4625, Loss: 1.6791\n"
     ]
    },
    {
     "name": "stderr",
     "output_type": "stream",
     "text": [
      "                                                                                 \r"
     ]
    },
    {
     "name": "stdout",
     "output_type": "stream",
     "text": [
      "Epoch 9/20 | Train Acc: 0.7167, Loss: 0.7333 | Val Acc: 0.5375, Loss: 1.5050\n"
     ]
    },
    {
     "name": "stderr",
     "output_type": "stream",
     "text": [
      "                                                                                  \r"
     ]
    },
    {
     "name": "stdout",
     "output_type": "stream",
     "text": [
      "Epoch 10/20 | Train Acc: 0.7417, Loss: 0.6992 | Val Acc: 0.5250, Loss: 1.7511\n"
     ]
    },
    {
     "name": "stderr",
     "output_type": "stream",
     "text": [
      "                                                                                  \r"
     ]
    },
    {
     "name": "stdout",
     "output_type": "stream",
     "text": [
      "Epoch 11/20 | Train Acc: 0.7083, Loss: 0.7918 | Val Acc: 0.5250, Loss: 1.6017\n"
     ]
    },
    {
     "name": "stderr",
     "output_type": "stream",
     "text": [
      "                                                                                  \r"
     ]
    },
    {
     "name": "stdout",
     "output_type": "stream",
     "text": [
      "Epoch 12/20 | Train Acc: 0.8250, Loss: 0.5420 | Val Acc: 0.5875, Loss: 1.5831\n"
     ]
    },
    {
     "name": "stderr",
     "output_type": "stream",
     "text": [
      "                                                                                  \r"
     ]
    },
    {
     "name": "stdout",
     "output_type": "stream",
     "text": [
      "Epoch 13/20 | Train Acc: 0.7917, Loss: 0.6052 | Val Acc: 0.5250, Loss: 1.7895\n"
     ]
    },
    {
     "name": "stderr",
     "output_type": "stream",
     "text": [
      "                                                                                  \r"
     ]
    },
    {
     "name": "stdout",
     "output_type": "stream",
     "text": [
      "Epoch 14/20 | Train Acc: 0.8333, Loss: 0.4920 | Val Acc: 0.5125, Loss: 2.1318\n"
     ]
    },
    {
     "name": "stderr",
     "output_type": "stream",
     "text": [
      "                                                                                  \r"
     ]
    },
    {
     "name": "stdout",
     "output_type": "stream",
     "text": [
      "Epoch 15/20 | Train Acc: 0.7333, Loss: 0.6145 | Val Acc: 0.4750, Loss: 2.1045\n"
     ]
    },
    {
     "name": "stderr",
     "output_type": "stream",
     "text": [
      "                                                                                  \r"
     ]
    },
    {
     "name": "stdout",
     "output_type": "stream",
     "text": [
      "Epoch 16/20 | Train Acc: 0.8125, Loss: 0.5112 | Val Acc: 0.5250, Loss: 1.7621\n"
     ]
    },
    {
     "name": "stderr",
     "output_type": "stream",
     "text": [
      "                                                                                  \r"
     ]
    },
    {
     "name": "stdout",
     "output_type": "stream",
     "text": [
      "Epoch 17/20 | Train Acc: 0.9042, Loss: 0.3104 | Val Acc: 0.5250, Loss: 1.9761\n"
     ]
    },
    {
     "name": "stderr",
     "output_type": "stream",
     "text": [
      "                                                                                   \r"
     ]
    },
    {
     "name": "stdout",
     "output_type": "stream",
     "text": [
      "Epoch 18/20 | Train Acc: 0.8417, Loss: 0.3788 | Val Acc: 0.5000, Loss: 1.7330\n"
     ]
    },
    {
     "name": "stderr",
     "output_type": "stream",
     "text": [
      "                                                                                   \r"
     ]
    },
    {
     "name": "stdout",
     "output_type": "stream",
     "text": [
      "Epoch 19/20 | Train Acc: 0.8708, Loss: 0.3872 | Val Acc: 0.5250, Loss: 1.9649\n"
     ]
    },
    {
     "name": "stderr",
     "output_type": "stream",
     "text": [
      "                                                                                   \r"
     ]
    },
    {
     "name": "stdout",
     "output_type": "stream",
     "text": [
      "Epoch 20/20 | Train Acc: 0.8917, Loss: 0.3230 | Val Acc: 0.5375, Loss: 1.9356\n",
      "\n",
      "Training model_adam with adam and batch norm\n",
      "\n"
     ]
    },
    {
     "name": "stderr",
     "output_type": "stream",
     "text": [
      "                                                                                 \r"
     ]
    },
    {
     "name": "stdout",
     "output_type": "stream",
     "text": [
      "Epoch 1/20 | Train Acc: 0.4875, Loss: 1.5332 | Val Acc: 0.4375, Loss: 1.4631\n"
     ]
    },
    {
     "name": "stderr",
     "output_type": "stream",
     "text": [
      "                                                                                 \r"
     ]
    },
    {
     "name": "stdout",
     "output_type": "stream",
     "text": [
      "Epoch 2/20 | Train Acc: 0.8333, Loss: 0.5214 | Val Acc: 0.5625, Loss: 1.2622\n"
     ]
    },
    {
     "name": "stderr",
     "output_type": "stream",
     "text": [
      "                                                                                  \r"
     ]
    },
    {
     "name": "stdout",
     "output_type": "stream",
     "text": [
      "Epoch 3/20 | Train Acc: 0.9125, Loss: 0.3415 | Val Acc: 0.6000, Loss: 1.4536\n"
     ]
    },
    {
     "name": "stderr",
     "output_type": "stream",
     "text": [
      "                                                                                   \r"
     ]
    },
    {
     "name": "stdout",
     "output_type": "stream",
     "text": [
      "Epoch 4/20 | Train Acc: 0.9542, Loss: 0.1306 | Val Acc: 0.7000, Loss: 1.3987\n"
     ]
    },
    {
     "name": "stderr",
     "output_type": "stream",
     "text": [
      "                                                                                   \r"
     ]
    },
    {
     "name": "stdout",
     "output_type": "stream",
     "text": [
      "Epoch 5/20 | Train Acc: 0.9500, Loss: 0.1254 | Val Acc: 0.6500, Loss: 1.5153\n"
     ]
    },
    {
     "name": "stderr",
     "output_type": "stream",
     "text": [
      "                                                                                  \r"
     ]
    },
    {
     "name": "stdout",
     "output_type": "stream",
     "text": [
      "Epoch 6/20 | Train Acc: 0.9667, Loss: 0.1094 | Val Acc: 0.6500, Loss: 1.5332\n"
     ]
    },
    {
     "name": "stderr",
     "output_type": "stream",
     "text": [
      "                                                                                   \r"
     ]
    },
    {
     "name": "stdout",
     "output_type": "stream",
     "text": [
      "Epoch 7/20 | Train Acc: 0.9750, Loss: 0.0988 | Val Acc: 0.6875, Loss: 1.2781\n"
     ]
    },
    {
     "name": "stderr",
     "output_type": "stream",
     "text": [
      "                                                                                   \r"
     ]
    },
    {
     "name": "stdout",
     "output_type": "stream",
     "text": [
      "Epoch 8/20 | Train Acc: 0.9958, Loss: 0.0235 | Val Acc: 0.6875, Loss: 1.3300\n"
     ]
    },
    {
     "name": "stderr",
     "output_type": "stream",
     "text": [
      "                                                                                    \r"
     ]
    },
    {
     "name": "stdout",
     "output_type": "stream",
     "text": [
      "Epoch 9/20 | Train Acc: 1.0000, Loss: 0.0067 | Val Acc: 0.7000, Loss: 1.3850\n"
     ]
    },
    {
     "name": "stderr",
     "output_type": "stream",
     "text": [
      "                                                                                     \r"
     ]
    },
    {
     "name": "stdout",
     "output_type": "stream",
     "text": [
      "Epoch 10/20 | Train Acc: 0.9958, Loss: 0.0133 | Val Acc: 0.6750, Loss: 1.5519\n"
     ]
    },
    {
     "name": "stderr",
     "output_type": "stream",
     "text": [
      "                                                                                    \r"
     ]
    },
    {
     "name": "stdout",
     "output_type": "stream",
     "text": [
      "Epoch 11/20 | Train Acc: 0.9958, Loss: 0.0196 | Val Acc: 0.7500, Loss: 1.3911\n"
     ]
    },
    {
     "name": "stderr",
     "output_type": "stream",
     "text": [
      "                                                                                     \r"
     ]
    },
    {
     "name": "stdout",
     "output_type": "stream",
     "text": [
      "Epoch 12/20 | Train Acc: 0.9958, Loss: 0.0297 | Val Acc: 0.7000, Loss: 1.6136\n"
     ]
    },
    {
     "name": "stderr",
     "output_type": "stream",
     "text": [
      "                                                                                    \r"
     ]
    },
    {
     "name": "stdout",
     "output_type": "stream",
     "text": [
      "Epoch 13/20 | Train Acc: 0.9875, Loss: 0.0547 | Val Acc: 0.6625, Loss: 1.8144\n"
     ]
    },
    {
     "name": "stderr",
     "output_type": "stream",
     "text": [
      "                                                                                    \r"
     ]
    },
    {
     "name": "stdout",
     "output_type": "stream",
     "text": [
      "Epoch 14/20 | Train Acc: 0.9750, Loss: 0.0630 | Val Acc: 0.6500, Loss: 1.7336\n"
     ]
    },
    {
     "name": "stderr",
     "output_type": "stream",
     "text": [
      "                                                                                     \r"
     ]
    },
    {
     "name": "stdout",
     "output_type": "stream",
     "text": [
      "Epoch 15/20 | Train Acc: 0.9875, Loss: 0.0345 | Val Acc: 0.6750, Loss: 1.6124\n"
     ]
    },
    {
     "name": "stderr",
     "output_type": "stream",
     "text": [
      "                                                                                    \r"
     ]
    },
    {
     "name": "stdout",
     "output_type": "stream",
     "text": [
      "Epoch 16/20 | Train Acc: 0.9875, Loss: 0.0445 | Val Acc: 0.6500, Loss: 1.9209\n"
     ]
    },
    {
     "name": "stderr",
     "output_type": "stream",
     "text": [
      "                                                                                    \r"
     ]
    },
    {
     "name": "stdout",
     "output_type": "stream",
     "text": [
      "Epoch 17/20 | Train Acc: 0.9792, Loss: 0.0944 | Val Acc: 0.6125, Loss: 1.4880\n"
     ]
    },
    {
     "name": "stderr",
     "output_type": "stream",
     "text": [
      "                                                                                    \r"
     ]
    },
    {
     "name": "stdout",
     "output_type": "stream",
     "text": [
      "Epoch 18/20 | Train Acc: 0.9917, Loss: 0.0280 | Val Acc: 0.6000, Loss: 1.8682\n"
     ]
    },
    {
     "name": "stderr",
     "output_type": "stream",
     "text": [
      "                                                                                     \r"
     ]
    },
    {
     "name": "stdout",
     "output_type": "stream",
     "text": [
      "Epoch 19/20 | Train Acc: 0.9875, Loss: 0.0223 | Val Acc: 0.6375, Loss: 1.9243\n"
     ]
    },
    {
     "name": "stderr",
     "output_type": "stream",
     "text": [
      "                                                                                     \r"
     ]
    },
    {
     "name": "stdout",
     "output_type": "stream",
     "text": [
      "Epoch 20/20 | Train Acc: 0.9875, Loss: 0.0323 | Val Acc: 0.7375, Loss: 1.7117\n"
     ]
    }
   ],
   "source": [
    "for config in configs:\n",
    "    print(f\"\\nTraining {config['name']} with {config['optimizer']} and {config['norm']} norm\\n\")\n",
    "\n",
    "    model = ESC10CNN(norm_type=config[\"norm\"]).to(device)\n",
    "    criterion = nn.CrossEntropyLoss()\n",
    "\n",
    "    if config[\"optimizer\"] == \"sgd\":\n",
    "        optimizer = torch.optim.SGD(model.parameters(), lr=0.01)\n",
    "    elif config[\"optimizer\"] == \"rmsprop\":\n",
    "        optimizer = torch.optim.RMSprop(model.parameters(), lr=0.001)\n",
    "    else:\n",
    "        optimizer = torch.optim.Adam(model.parameters(), lr=0.001)\n",
    "\n",
    "    _, _, _, _ = train_model(\n",
    "        model, train_loader, val_loader,\n",
    "        criterion, optimizer,\n",
    "        epochs=20,\n",
    "        device=device,\n",
    "        save_path=f\"{config['name']}.pth\"\n",
    "    )\n",
    "\n",
    "    # Save model\n",
    "    all_models[config[\"name\"]] = ESC10CNN(norm_type=config[\"norm\"]).to(device)\n",
    "    all_models[config[\"name\"]].load_state_dict(torch.load(f\"{config['name']}.pth\"))\n",
    "    all_models[config[\"name\"]].eval()\n",
    "\n",
    "    # Collect outputs on validation set\n",
    "    preds = []\n",
    "    labels = []\n",
    "    with torch.no_grad():\n",
    "        for X, y in val_loader:\n",
    "            X = X.to(device)\n",
    "            out = F.softmax(all_models[config[\"name\"]](X), dim=1)\n",
    "            preds.append(out.cpu())\n",
    "            labels.append(y)\n",
    "    val_outputs.append(torch.cat(preds, dim=0))\n",
    "    val_labels = torch.cat(labels, dim=0)\n"
   ]
  },
  {
   "cell_type": "code",
   "execution_count": null,
   "id": "0b1b58f1",
   "metadata": {},
   "outputs": [
    {
     "name": "stdout",
     "output_type": "stream",
     "text": [
      "\n",
      " Ensemble Accuracy (Output Averaging): 70.00%\n",
      "\n",
      " Optimal weights: [0.26886406540870667, -0.029929552227258682, 0.7610655426979065]\n",
      "\n",
      " Ensemble Accuracy (Weighted Linear Combo): 75.00%\n"
     ]
    }
   ],
   "source": [
    "avg_val_output = sum(val_outputs) / len(val_outputs)\n",
    "avg_preds = torch.argmax(avg_val_output, dim=1)\n",
    "acc_avg = (avg_preds == val_labels).float().mean().item()\n",
    "print(f\"\\n Ensemble Accuracy (Output Averaging): {acc_avg * 100:.2f}%\")\n",
    "val_stack = torch.stack(val_outputs, dim=1)\n",
    "num_classes = 10\n",
    "val_onehot = F.one_hot(val_labels, num_classes).float()\n",
    "\n",
    "X_val = val_stack.permute(0, 2, 1).reshape(-1, 3)\n",
    "y_val = val_onehot.reshape(-1)\n",
    "res = torch.linalg.lstsq(X_val, y_val.unsqueeze(1))\n",
    "weights = res.solution[:3].squeeze()\n",
    "weights = weights / weights.sum()  # normalize to sum to 1\n",
    "\n",
    "\n",
    "print(f\"\\n Optimal weights: {weights.tolist()}\")\n",
    "\n",
    "# Weighted combination\n",
    "weighted_output = weights[0]*val_outputs[0] + weights[1]*val_outputs[1] + weights[2]*val_outputs[2]\n",
    "weighted_preds = torch.argmax(weighted_output, dim=1)\n",
    "acc_weighted = (weighted_preds == val_labels).float().mean().item()\n",
    "print(f\"\\n Ensemble Accuracy (Weighted Linear Combo): {acc_weighted * 100:.2f}%\")\n"
   ]
  },
  {
   "cell_type": "markdown",
   "id": "5f1223ef",
   "metadata": {},
   "source": [
    "Ensembling improves the accuracy from around 68% to almost 70% and 75% respectively for averaging and weighted linear combination.\n",
    "\n",
    "This is because ensembling reduces the variance of the model by combining predictions from multiple models, leading to a more robust and accurate final prediction. The weighted linear combination allows for more flexibility in adjusting the contribution of each model based on their performance, further enhancing the overall accuracy."
   ]
  },
  {
   "cell_type": "code",
   "execution_count": null,
   "id": "26440bd1",
   "metadata": {},
   "outputs": [],
   "source": []
  }
 ],
 "metadata": {
  "kernelspec": {
   "display_name": "GPU_Enable",
   "language": "python",
   "name": "python3"
  },
  "language_info": {
   "codemirror_mode": {
    "name": "ipython",
    "version": 3
   },
   "file_extension": ".py",
   "mimetype": "text/x-python",
   "name": "python",
   "nbconvert_exporter": "python",
   "pygments_lexer": "ipython3",
   "version": "3.9.21"
  }
 },
 "nbformat": 4,
 "nbformat_minor": 5
}
